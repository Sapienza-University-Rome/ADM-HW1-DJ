{
 "cells": [
  {
   "cell_type": "markdown",
   "metadata": {},
   "source": [
    "<h1><center>Homework 1 - HackerRank Practice</center></h1> \n",
    "<center><img src=\"img/Sap_Hack_Pyt2.JPG\" alt=\"Drawing\" style=\"width: 300px;\"/></center>"
   ]
  },
  {
   "cell_type": "markdown",
   "metadata": {},
   "source": [
    "##### **Author:** Daniel Mauricio Jiménez Gutiérrez\n",
    "##### **Date:** 2020/10/24\n",
    "##### **Subject:** Algorithmic Methods of Data Mining\n",
    "##### **Data Science Master's programme**\n",
    "##### **La Sapienza University of Rome**\n",
    "_____"
   ]
  },
  {
   "cell_type": "markdown",
   "metadata": {},
   "source": [
    "<div style=\"text-align: justify \"> The code below contains the development of a sort of points related to practising <b>Python</b> from the basics to the use of Numpy and some extra programming issues. Each chunk of problems has its link and a <b>number/description</b> to easily identify them.</div>"
   ]
  },
  {
   "cell_type": "markdown",
   "metadata": {},
   "source": [
    "# Problem 1\n",
    "\n",
    "In the following cells, you can find the solution to each one of the challenges proposed in the first problem."
   ]
  },
  {
   "cell_type": "markdown",
   "metadata": {},
   "source": [
    "## Introduction\n",
    "(all – total: 7 - max points: 75)\n",
    "https://www.hackerrank.com/domains/python/py-introduction"
   ]
  },
  {
   "cell_type": "markdown",
   "metadata": {},
   "source": [
    "### 1. Say Hello, World! With Python"
   ]
  },
  {
   "cell_type": "code",
   "execution_count": 256,
   "metadata": {},
   "outputs": [
    {
     "name": "stdout",
     "output_type": "stream",
     "text": [
      "Hello, World!\n"
     ]
    }
   ],
   "source": [
    "expression = \"Hello, World!\"\n",
    "print expression"
   ]
  },
  {
   "cell_type": "markdown",
   "metadata": {},
   "source": [
    "### 2. Python If-Else\n",
    "I looked at the answer to this exercise to figure out how to code and run the answers"
   ]
  },
  {
   "cell_type": "code",
   "execution_count": 21,
   "metadata": {},
   "outputs": [
    {
     "name": "stdin",
     "output_type": "stream",
     "text": [
      " 2\n"
     ]
    },
    {
     "name": "stdout",
     "output_type": "stream",
     "text": [
      "Not Weird\n"
     ]
    }
   ],
   "source": [
    "# Provide the number\n",
    "n = int(input())\n",
    "# Check if the number is odd\n",
    "if n % 2 != 0:\n",
    "    print(\"Weird\")\n",
    "# Check if the number is even and in the inclusive range of 2 to 5, print Not Weird\n",
    "elif n % 2 == 0 and n >= 2 and n <= 5:\n",
    "    print(\"Not Weird\")\n",
    "# Check if the number is even and in the inclusive range of 6 to 20, print Not Weird\n",
    "elif n % 2 == 0 and n >= 6 and n <= 20:\n",
    "    print(\"Weird\")\n",
    "# Check if the number is even and in the inclusive range of 6 to 20, print Not Weird\n",
    "elif n % 2 == 0 and n > 20:\n",
    "    print(\"Not Weird\")\n",
    "else:\n",
    "    print(\"Wrong number\")"
   ]
  },
  {
   "cell_type": "markdown",
   "metadata": {},
   "source": [
    "### 3. Arithmetic Operators"
   ]
  },
  {
   "cell_type": "code",
   "execution_count": 23,
   "metadata": {},
   "outputs": [
    {
     "name": "stdin",
     "output_type": "stream",
     "text": [
      " 4\n",
      " 5\n"
     ]
    },
    {
     "name": "stdout",
     "output_type": "stream",
     "text": [
      "9\n",
      "-1\n",
      "20\n"
     ]
    }
   ],
   "source": [
    "# Provide the numbers\n",
    "a = int(input())\n",
    "b = int(input())\n",
    "\n",
    "# Sum numbers\n",
    "print(a + b)\n",
    "\n",
    "# Substract numbers\n",
    "print(a - b)\n",
    "\n",
    "# Multiply numbers\n",
    "print(a * b)"
   ]
  },
  {
   "cell_type": "markdown",
   "metadata": {},
   "source": [
    "### 4. Python: Division"
   ]
  },
  {
   "cell_type": "code",
   "execution_count": 25,
   "metadata": {},
   "outputs": [
    {
     "name": "stdin",
     "output_type": "stream",
     "text": [
      " 1\n",
      " 2\n"
     ]
    },
    {
     "name": "stdout",
     "output_type": "stream",
     "text": [
      "0\n",
      "0.5\n"
     ]
    }
   ],
   "source": [
    "# Provide the numbers\n",
    "a = int(input())\n",
    "b = int(input())\n",
    "\n",
    "# Calculate divisions\n",
    "print(a // b)\n",
    "print(a / b)"
   ]
  },
  {
   "cell_type": "markdown",
   "metadata": {},
   "source": [
    "### 5. Loops"
   ]
  },
  {
   "cell_type": "code",
   "execution_count": 28,
   "metadata": {},
   "outputs": [
    {
     "name": "stdin",
     "output_type": "stream",
     "text": [
      " 5\n"
     ]
    },
    {
     "name": "stdout",
     "output_type": "stream",
     "text": [
      "0\n",
      "1\n",
      "4\n",
      "9\n",
      "16\n"
     ]
    }
   ],
   "source": [
    "# Provide the number\n",
    "n = int(input())\n",
    "\n",
    "# Execute loop\n",
    "i = 0\n",
    "while i < n:\n",
    "    print(i ** 2)\n",
    "    i += 1"
   ]
  },
  {
   "cell_type": "markdown",
   "metadata": {},
   "source": [
    "### 6. Write a function"
   ]
  },
  {
   "cell_type": "code",
   "execution_count": 33,
   "metadata": {},
   "outputs": [
    {
     "name": "stdin",
     "output_type": "stream",
     "text": [
      " 2000\n"
     ]
    },
    {
     "name": "stdout",
     "output_type": "stream",
     "text": [
      "True\n"
     ]
    }
   ],
   "source": [
    "# Define function\n",
    "def is_leap(year):\n",
    "    leap = False\n",
    "    # Evaluate the conditions for leap year\n",
    "    if (year % 4) == 0:\n",
    "        if (year % 100) == 0:\n",
    "            if (year % 400) == 0:\n",
    "                leap = True\n",
    "            else:\n",
    "                leap = False\n",
    "        else:\n",
    "            leap = True\n",
    "    else:\n",
    "        leap = False\n",
    "    # Evaluate the conditions for leap year\n",
    "    return leap\n",
    "\n",
    "\n",
    "# Provide the number\n",
    "year = int(input())\n",
    "\n",
    "# Return solution\n",
    "print(is_leap(year))"
   ]
  },
  {
   "cell_type": "markdown",
   "metadata": {},
   "source": [
    "### 7. Print Function"
   ]
  },
  {
   "cell_type": "code",
   "execution_count": 38,
   "metadata": {},
   "outputs": [
    {
     "name": "stdin",
     "output_type": "stream",
     "text": [
      " 5\n"
     ]
    },
    {
     "name": "stdout",
     "output_type": "stream",
     "text": [
      "12345"
     ]
    }
   ],
   "source": [
    "# Provide the number\n",
    "n = int(input())\n",
    "\n",
    "# Iterate to print sequence\n",
    "for i in range(n):\n",
    "    print(i + 1, end=\"\")"
   ]
  },
  {
   "cell_type": "markdown",
   "metadata": {},
   "source": [
    "## Data types\n",
    " (all – total: 6 - max points: 60)\n",
    "https://www.hackerrank.com/domains/python/py-basic-data-types"
   ]
  },
  {
   "cell_type": "markdown",
   "metadata": {},
   "source": [
    "### 1. List Comprehensions"
   ]
  },
  {
   "cell_type": "code",
   "execution_count": 3,
   "metadata": {},
   "outputs": [
    {
     "name": "stdin",
     "output_type": "stream",
     "text": [
      " 1\n",
      " 1\n",
      " 1\n",
      " 2\n"
     ]
    },
    {
     "name": "stdout",
     "output_type": "stream",
     "text": [
      "[[0, 0, 0], [0, 0, 1], [0, 1, 0], [1, 0, 0], [1, 1, 1]]\n"
     ]
    }
   ],
   "source": [
    "# Provide the numbers\n",
    "x = int(input())\n",
    "y = int(input())\n",
    "z = int(input())\n",
    "n = int(input())\n",
    "\n",
    "# Create all the posible combinations\n",
    "combinations = [\n",
    "    [i, j, k]\n",
    "    for i in range(x + 1)\n",
    "    for j in range(y + 1)\n",
    "    for k in range(z + 1)\n",
    "    if (i + j + k != n)\n",
    "]\n",
    "print(combinations)"
   ]
  },
  {
   "cell_type": "markdown",
   "metadata": {},
   "source": [
    "### 2. Find the Runner-Up Score!"
   ]
  },
  {
   "cell_type": "code",
   "execution_count": 7,
   "metadata": {},
   "outputs": [
    {
     "name": "stdin",
     "output_type": "stream",
     "text": [
      " 5\n",
      " 1 2 3 3 4\n"
     ]
    },
    {
     "name": "stdout",
     "output_type": "stream",
     "text": [
      "3\n"
     ]
    }
   ],
   "source": [
    "### Provide the numbers\n",
    "n = int(input())\n",
    "arr = list(map(int, input().split()))\n",
    "\n",
    "# Remove duplicates\n",
    "arr = list(dict.fromkeys(arr))\n",
    "\n",
    "# Sort the list\n",
    "arr.sort()\n",
    "\n",
    "# Print second largest element\n",
    "print(arr[-2])"
   ]
  },
  {
   "cell_type": "markdown",
   "metadata": {},
   "source": [
    "### 3. Nested Lists"
   ]
  },
  {
   "cell_type": "code",
   "execution_count": null,
   "metadata": {},
   "outputs": [],
   "source": [
    "### Provide the numbers\n",
    "names = []\n",
    "scores = []\n",
    "for i in range(int(input())):\n",
    "    name = input()\n",
    "    score = float(input())\n",
    "    names.append(name)\n",
    "    scores.append(score)\n",
    "# Remove duplicates\n",
    "srt_scores = list(dict.fromkeys(scores))\n",
    "\n",
    "# Sort the list of scores\n",
    "srt_scores = sorted(srt_scores, reverse=True)\n",
    "\n",
    "# Define second lowest score\n",
    "second_largest = srt_scores[-2]\n",
    "\n",
    "# Find position of second lowest score\n",
    "pos = []\n",
    "for i in range(len(scores)):\n",
    "    if scores[i] == second_largest:\n",
    "        pos.append(i)\n",
    "# Find names of positions of the second lowest score\n",
    "nam_low = []\n",
    "for i in pos:\n",
    "    nam_low.append(names[i])\n",
    "# Sort the list of names\n",
    "nam_low = sorted(nam_low)\n",
    "\n",
    "# Print name of positions of the second lowest score\n",
    "for i in nam_low:\n",
    "    print(i)"
   ]
  },
  {
   "cell_type": "markdown",
   "metadata": {},
   "source": [
    "### 4. Finding the percentage"
   ]
  },
  {
   "cell_type": "code",
   "execution_count": 45,
   "metadata": {},
   "outputs": [
    {
     "name": "stdin",
     "output_type": "stream",
     "text": [
      " 3\n",
      " Krishna 67 68 69\n",
      " Arjun 70 98 63\n",
      " Malika 52 56 60\n",
      " Malika\n"
     ]
    },
    {
     "name": "stdout",
     "output_type": "stream",
     "text": [
      "56.0\n"
     ]
    }
   ],
   "source": [
    "### Provide the information\n",
    "n = int(input())\n",
    "student_marks = {}\n",
    "\n",
    "# Loop over students\n",
    "for i in range(n):\n",
    "    name, *line = input().split()\n",
    "    scores = list(map(float, line))\n",
    "    student_marks[name] = scores\n",
    "query_name = input()\n",
    "\n",
    "### Find average of desired student\n",
    "avg = round(sum(student_marks[query_name]) / 3, 2)\n",
    "print(\"%.2f\" % avg)"
   ]
  },
  {
   "cell_type": "markdown",
   "metadata": {},
   "source": [
    "### 5. Lists"
   ]
  },
  {
   "cell_type": "code",
   "execution_count": null,
   "metadata": {},
   "outputs": [],
   "source": [
    "# Provide the number\n",
    "N = int(input())\n",
    "\n",
    "final_value = []\n",
    "for i in range(N):\n",
    "    # Provide functions and parameters to be applied\n",
    "    func = input().split()\n",
    "    command = func[0]\n",
    "    params = func[1:]\n",
    "    # Decide if the function is or not print\n",
    "    if command != \"print\":\n",
    "        eval(\"final_value.\" + command + \"(\" + \",\".join(params) + \")\")\n",
    "    else:\n",
    "        print(final_value)"
   ]
  },
  {
   "cell_type": "markdown",
   "metadata": {},
   "source": [
    "### 6. Tuples"
   ]
  },
  {
   "cell_type": "code",
   "execution_count": 60,
   "metadata": {},
   "outputs": [
    {
     "name": "stdin",
     "output_type": "stream",
     "text": [
      " 2\n",
      " 1 2\n"
     ]
    },
    {
     "name": "stdout",
     "output_type": "stream",
     "text": [
      "3713081631934410656\n"
     ]
    }
   ],
   "source": [
    "# Provide the number and list of numbers\n",
    "n = int(input())\n",
    "integer_list = map(int, input().split())\n",
    "\n",
    "# Create tuple\n",
    "tuple_n = tuple(integer_list)\n",
    "\n",
    "# Print hash\n",
    "print(hash(tuple_n))"
   ]
  },
  {
   "cell_type": "markdown",
   "metadata": {},
   "source": [
    "## Strings\n",
    " (all – total: 14 - max points: 220)\n",
    "https://www.hackerrank.com/domains/python/py-strings ---- \n",
    "https://www.hackerrank.com/domains/python/py-strings/2"
   ]
  },
  {
   "cell_type": "markdown",
   "metadata": {},
   "source": [
    "### 1. sWAP cASE"
   ]
  },
  {
   "cell_type": "code",
   "execution_count": 2,
   "metadata": {},
   "outputs": [
    {
     "name": "stdin",
     "output_type": "stream",
     "text": [
      " HeLlOw\n"
     ]
    },
    {
     "name": "stdout",
     "output_type": "stream",
     "text": [
      "hElLoW\n"
     ]
    }
   ],
   "source": [
    "# Define function to swap case\n",
    "def swap_case(s):\n",
    "    return s.swapcase()\n",
    "\n",
    "\n",
    "# Provide the string\n",
    "s = input()\n",
    "\n",
    "# Apply function\n",
    "result = swap_case(s)\n",
    "\n",
    "# Print swapped string\n",
    "print(result)"
   ]
  },
  {
   "cell_type": "markdown",
   "metadata": {},
   "source": [
    "### 2. String Split and Join"
   ]
  },
  {
   "cell_type": "code",
   "execution_count": 3,
   "metadata": {},
   "outputs": [
    {
     "name": "stdin",
     "output_type": "stream",
     "text": [
      " this is a string\n"
     ]
    },
    {
     "name": "stdout",
     "output_type": "stream",
     "text": [
      "this-is-a-string\n"
     ]
    }
   ],
   "source": [
    "# Define function\n",
    "def split_and_join(line):\n",
    "    # write your code here\n",
    "    line = line.split(\" \")\n",
    "    line = \"-\".join(line)\n",
    "    return line\n",
    "\n",
    "\n",
    "# Provide the string\n",
    "line = input()\n",
    "\n",
    "# Apply function\n",
    "result = split_and_join(line)\n",
    "\n",
    "# Print splitted string\n",
    "print(result)"
   ]
  },
  {
   "cell_type": "markdown",
   "metadata": {},
   "source": [
    "### 3. What's Your Name?"
   ]
  },
  {
   "cell_type": "code",
   "execution_count": 5,
   "metadata": {},
   "outputs": [
    {
     "name": "stdin",
     "output_type": "stream",
     "text": [
      " a\n",
      " b\n"
     ]
    },
    {
     "name": "stdout",
     "output_type": "stream",
     "text": [
      "Hello a b! You just delved into python.\n"
     ]
    }
   ],
   "source": [
    "# Define function\n",
    "def print_full_name(a, b):\n",
    "    print(\"Hello \", a, \" \", b, \"! You just delved into python.\", sep=\"\")\n",
    "\n",
    "\n",
    "# Provide the strings\n",
    "first_name = input()\n",
    "last_name = input()\n",
    "\n",
    "# Apply function\n",
    "print_full_name(first_name, last_name)"
   ]
  },
  {
   "cell_type": "markdown",
   "metadata": {},
   "source": [
    "### 4. Mutations"
   ]
  },
  {
   "cell_type": "code",
   "execution_count": 6,
   "metadata": {},
   "outputs": [
    {
     "name": "stdin",
     "output_type": "stream",
     "text": [
      " cara\n",
      " 2 k\n"
     ]
    },
    {
     "name": "stdout",
     "output_type": "stream",
     "text": [
      "caka\n"
     ]
    }
   ],
   "source": [
    "# Define function\n",
    "def mutate_string(string, position, character):\n",
    "    return string[:position] + character + string[(position + 1) :]\n",
    "\n",
    "\n",
    "# Provide the strings\n",
    "s = input()\n",
    "i, c = input().split()\n",
    "\n",
    "# Apply function\n",
    "s_new = mutate_string(s, int(i), c)\n",
    "\n",
    "# Print result\n",
    "print(s_new)"
   ]
  },
  {
   "cell_type": "markdown",
   "metadata": {},
   "source": [
    "### 5. Find a string"
   ]
  },
  {
   "cell_type": "code",
   "execution_count": 7,
   "metadata": {},
   "outputs": [
    {
     "name": "stdin",
     "output_type": "stream",
     "text": [
      " caraca\n",
      " ca\n"
     ]
    },
    {
     "name": "stdout",
     "output_type": "stream",
     "text": [
      "2\n"
     ]
    }
   ],
   "source": [
    "# Define function\n",
    "def count_substring(string, sub_string):\n",
    "    # Iterate over positions\n",
    "    cont = 0\n",
    "    for i in range(len(string) - len(sub_string) + 1):\n",
    "        # Check if sub_string in string\n",
    "        if string[i : i + len(sub_string)] == sub_string:\n",
    "            cont += 1\n",
    "    return cont\n",
    "\n",
    "\n",
    "# Provide the strings\n",
    "string = input().strip()\n",
    "sub_string = input().strip()\n",
    "\n",
    "# Apply function\n",
    "count = count_substring(string, sub_string)\n",
    "\n",
    "# Print result\n",
    "print(count)"
   ]
  },
  {
   "cell_type": "markdown",
   "metadata": {},
   "source": [
    "### 6. String Validators"
   ]
  },
  {
   "cell_type": "code",
   "execution_count": 10,
   "metadata": {},
   "outputs": [
    {
     "name": "stdin",
     "output_type": "stream",
     "text": [
      " Awa\n"
     ]
    },
    {
     "name": "stdout",
     "output_type": "stream",
     "text": [
      "True\n",
      "True\n",
      "False\n",
      "True\n",
      "True\n"
     ]
    }
   ],
   "source": [
    "# Provide string\n",
    "s = input()\n",
    "\n",
    "# Check if string has any alphanumeric characters\n",
    "print(any([i.isalnum() for i in s]))\n",
    "# Check if string has any alphabetical characters\n",
    "print(any([i.isalpha() for i in s]))\n",
    "# Check if string has any digits\n",
    "print(any([i.isdigit() for i in s]))\n",
    "# Check if string has any lowercase characters\n",
    "print(any([i.islower() for i in s]))\n",
    "# Check if string has any uppercase characters\n",
    "print(any([i.isupper() for i in s]))"
   ]
  },
  {
   "cell_type": "markdown",
   "metadata": {},
   "source": [
    "### 7. Text Alignment"
   ]
  },
  {
   "cell_type": "code",
   "execution_count": 11,
   "metadata": {},
   "outputs": [
    {
     "name": "stdin",
     "output_type": "stream",
     "text": [
      " 5\n"
     ]
    },
    {
     "name": "stdout",
     "output_type": "stream",
     "text": [
      "    H    \n",
      "   HHH   \n",
      "  HHHHH  \n",
      " HHHHHHH \n",
      "HHHHHHHHH\n",
      "  HHHHH               HHHHH             \n",
      "  HHHHH               HHHHH             \n",
      "  HHHHH               HHHHH             \n",
      "  HHHHH               HHHHH             \n",
      "  HHHHH               HHHHH             \n",
      "  HHHHH               HHHHH             \n",
      "  HHHHHHHHHHHHHHHHHHHHHHHHH   \n",
      "  HHHHHHHHHHHHHHHHHHHHHHHHH   \n",
      "  HHHHHHHHHHHHHHHHHHHHHHHHH   \n",
      "  HHHHH               HHHHH             \n",
      "  HHHHH               HHHHH             \n",
      "  HHHHH               HHHHH             \n",
      "  HHHHH               HHHHH             \n",
      "  HHHHH               HHHHH             \n",
      "  HHHHH               HHHHH             \n",
      "                    HHHHHHHHH \n",
      "                     HHHHHHH  \n",
      "                      HHHHH   \n",
      "                       HHH    \n",
      "                        H     \n"
     ]
    }
   ],
   "source": [
    "#Replace all ______ with rjust, ljust or center. \n",
    "\n",
    "thickness = int(input())  # This must be an odd number\n",
    "c = \"H\"\n",
    "\n",
    "# Top Cone\n",
    "for i in range(thickness):\n",
    "    print((c * i).rjust(thickness - 1) + c + (c * i).ljust(thickness - 1))\n",
    "# Top Pillars\n",
    "for i in range(thickness + 1):\n",
    "    print((c * thickness).center(thickness * 2) + (c * thickness).center(thickness * 6))\n",
    "# Middle Belt\n",
    "for i in range((thickness + 1) // 2):\n",
    "    print((c * thickness * 5).center(thickness * 6))\n",
    "# Bottom Pillars\n",
    "for i in range(thickness + 1):\n",
    "    print((c * thickness).center(thickness * 2) + (c * thickness).center(thickness * 6))\n",
    "# Bottom Cone\n",
    "for i in range(thickness):\n",
    "    print(\n",
    "        (\n",
    "            (c * (thickness - i - 1)).rjust(thickness)\n",
    "            + c\n",
    "            + (c * (thickness - i - 1)).ljust(thickness)\n",
    "        ).rjust(thickness * 6)\n",
    "    )"
   ]
  },
  {
   "cell_type": "markdown",
   "metadata": {},
   "source": [
    "### 8. Text Wrap"
   ]
  },
  {
   "cell_type": "code",
   "execution_count": 12,
   "metadata": {},
   "outputs": [
    {
     "name": "stdin",
     "output_type": "stream",
     "text": [
      " abcdefgh\n",
      " 2\n"
     ]
    },
    {
     "name": "stdout",
     "output_type": "stream",
     "text": [
      "ab\n",
      "cd\n",
      "ef\n",
      "gh\n"
     ]
    }
   ],
   "source": [
    "# Import library\n",
    "import textwrap\n",
    "\n",
    "# Define function\n",
    "def wrap(string, max_width):\n",
    "    text_wr = textwrap.fill(string, max_width)\n",
    "    return text_wr\n",
    "\n",
    "\n",
    "# Provide the strings\n",
    "string, max_width = input(), int(input())\n",
    "\n",
    "# Apply function\n",
    "result = wrap(string, max_width)\n",
    "\n",
    "# Print result\n",
    "print(result)"
   ]
  },
  {
   "cell_type": "markdown",
   "metadata": {},
   "source": [
    "### 9. Designer Door Mat\n",
    "I looked at the answer to this exercise to figure out how to create the bottom part of the mat, because after many trials I was getting the wrong figure"
   ]
  },
  {
   "cell_type": "code",
   "execution_count": 19,
   "metadata": {},
   "outputs": [
    {
     "name": "stdin",
     "output_type": "stream",
     "text": [
      " 9 27\n"
     ]
    },
    {
     "name": "stdout",
     "output_type": "stream",
     "text": [
      "------------.|.------------\n",
      "---------.|..|..|.---------\n",
      "------.|..|..|..|..|.------\n",
      "---.|..|..|..|..|..|..|.---\n",
      "----------WELCOME----------\n",
      "---.|..|..|..|..|..|..|.---\n",
      "------.|..|..|..|..|.------\n",
      "---------.|..|..|.---------\n",
      "------------.|.------------\n"
     ]
    }
   ],
   "source": [
    "# Provide dimensions strings\n",
    "height, base = map(int, input().split())\n",
    "\n",
    "# Loop to create the top part of the mat\n",
    "for i in range(1, height, 2):\n",
    "    print(\"\".join([\".|.\"] * i).center(base, \"-\"))\n",
    "# Print welcome with the dimension provided\n",
    "print(\"WELCOME\".center(base, \"-\"))\n",
    "\n",
    "# Loop to create the bottom part of the mat\n",
    "for i in range(height - 2, -1, -2):\n",
    "    print(\"\".join([\".|.\"] * i).center(base, \"-\"))"
   ]
  },
  {
   "cell_type": "markdown",
   "metadata": {},
   "source": [
    "### 10. String Formatting"
   ]
  },
  {
   "cell_type": "code",
   "execution_count": 25,
   "metadata": {},
   "outputs": [
    {
     "name": "stdin",
     "output_type": "stream",
     "text": [
      " 5\n"
     ]
    },
    {
     "name": "stdout",
     "output_type": "stream",
     "text": [
      "  1   1   1   1\n",
      "  2   2   2  10\n",
      "  3   3   3  11\n",
      "  4   4   4 100\n",
      "  5   5   5 101\n"
     ]
    }
   ],
   "source": [
    "# Define function\n",
    "def print_formatted(number):\n",
    "    # Get the higher number of characters of the number (binary)\n",
    "    nchar = len(bin(number)[2:])\n",
    "    # Loop to print sequence\n",
    "    for i in range(number):\n",
    "        # Transform each number\n",
    "        decimal = str(i + 1)\n",
    "        octal = oct(i + 1)[2:]\n",
    "        hexadecimal = hex(i + 1)[2:].upper()\n",
    "        binary = bin(i + 1)[2:]\n",
    "        # Print in desired format\n",
    "        print(\n",
    "            decimal.rjust(nchar),\n",
    "            octal.rjust(nchar),\n",
    "            hexadecimal.rjust(nchar),\n",
    "            binary.rjust(nchar),\n",
    "        )\n",
    "\n",
    "\n",
    "# Provide the number\n",
    "n = int(input())\n",
    "\n",
    "# Apply function"
   ]
  },
  {
   "cell_type": "markdown",
   "metadata": {},
   "source": [
    "### 11. Alphabet Rangoli"
   ]
  },
  {
   "cell_type": "code",
   "execution_count": 32,
   "metadata": {},
   "outputs": [
    {
     "name": "stdin",
     "output_type": "stream",
     "text": [
      " 5\n"
     ]
    },
    {
     "name": "stdout",
     "output_type": "stream",
     "text": [
      "--------e--------\n",
      "------e-d-e------\n",
      "----e-d-c-d-e----\n",
      "--e-d-c-b-c-d-e--\n",
      "e-d-c-b-a-b-c-d-e\n",
      "--e-d-c-b-c-d-e--\n",
      "----e-d-c-d-e----\n",
      "------e-d-e------\n",
      "--------e--------\n"
     ]
    }
   ],
   "source": [
    "# Import library\n",
    "import string\n",
    "\n",
    "# Define function\n",
    "def print_rangoli(size):\n",
    "    # Bring letters of the alphabet\n",
    "    letters = string.ascii_lowercase\n",
    "    mat = []\n",
    "    for i in range(0, size):\n",
    "        # Create each line\n",
    "        line = \"-\".join(letters[i:size])\n",
    "        # Append all the lines created in the format desired\n",
    "        mat.append((line[::-1] + line[1:]).center(4 * size - 3, \"-\"))\n",
    "    # Print result\n",
    "    print(\"\\n\".join(mat[:0:-1] + mat))\n",
    "\n",
    "\n",
    "# Provide the number\n",
    "n = int(input())\n",
    "\n",
    "# Apply function\n",
    "print_rangoli(n)"
   ]
  },
  {
   "cell_type": "markdown",
   "metadata": {},
   "source": [
    "### 12. Capitalize!"
   ]
  },
  {
   "cell_type": "code",
   "execution_count": 49,
   "metadata": {},
   "outputs": [
    {
     "name": "stdin",
     "output_type": "stream",
     "text": [
      " ab bA bb 3G\n"
     ]
    },
    {
     "name": "stdout",
     "output_type": "stream",
     "text": [
      "Ab Ba Bb 3g\n"
     ]
    }
   ],
   "source": [
    "# Define function\n",
    "def solve(s):\n",
    "    # Lop for words\n",
    "    for i in s.split():\n",
    "        # Capitalize each word\n",
    "        s = s.replace(i, i.capitalize())\n",
    "    return s\n",
    "\n",
    "\n",
    "# Provide the string\n",
    "s = input()\n",
    "\n",
    "# Apply function\n",
    "result = solve(s)\n",
    "\n",
    "# Print result\n",
    "print(result)"
   ]
  },
  {
   "cell_type": "markdown",
   "metadata": {},
   "source": [
    "### 13. The Minion Game\n",
    "I look at a part of the solution to this problem because I couldn't understand very well the directions"
   ]
  },
  {
   "cell_type": "code",
   "execution_count": 64,
   "metadata": {},
   "outputs": [
    {
     "name": "stdin",
     "output_type": "stream",
     "text": [
      " banana\n"
     ]
    },
    {
     "name": "stdout",
     "output_type": "stream",
     "text": [
      "Stuart 12\n"
     ]
    }
   ],
   "source": [
    "# Define function\n",
    "def minion_game(string):\n",
    "    # Number of characters of string\n",
    "    nchar = len(string)\n",
    "    # Define posible vowels\n",
    "    vowels = \"AEIOUaeiou\"\n",
    "\n",
    "    pts_kevin = 0\n",
    "    pts_stuart = 0\n",
    "    # Loop in string\n",
    "    for i in range(nchar):\n",
    "        # Check if vowel in word and give points to kevin\n",
    "        if string[i] in vowels:\n",
    "            pts_kevin += nchar - i\n",
    "        # IOC Give points to kevin\n",
    "        else:\n",
    "            pts_stuart += nchar - i\n",
    "    # Define winner\n",
    "    if pts_kevin > pts_stuart:\n",
    "        print(\"Kevin \" + str(pts_kevin))\n",
    "    elif pts_kevin < pts_stuart:\n",
    "        print(\"Stuart \" + str(pts_stuart))\n",
    "    else:\n",
    "        print(\"Draw\")\n",
    "\n",
    "\n",
    "# Provide the string\n",
    "s = input()\n",
    "\n",
    "# Apply function\n",
    "minion_game(s)"
   ]
  },
  {
   "cell_type": "markdown",
   "metadata": {},
   "source": [
    "### 14. Merge the Tools!"
   ]
  },
  {
   "cell_type": "code",
   "execution_count": 72,
   "metadata": {},
   "outputs": [
    {
     "name": "stdin",
     "output_type": "stream",
     "text": [
      " AAAAAAABBBBBC\n",
      " 2\n"
     ]
    },
    {
     "name": "stdout",
     "output_type": "stream",
     "text": [
      "A\n",
      "A\n",
      "A\n",
      "AB\n",
      "B\n",
      "B\n",
      "C\n"
     ]
    }
   ],
   "source": [
    "# Import library\n",
    "from collections import OrderedDict\n",
    "\n",
    "# Define function\n",
    "def merge_the_tools(string, k):\n",
    "    # Get number of characters of string\n",
    "    nchar = len(string)\n",
    "    # Loop in string by k\n",
    "    for i in range(0, nchar, k):\n",
    "        # Removing duplicates and extracting subsequence\n",
    "        print(\"\".join(OrderedDict.fromkeys(string[i : i + k])))\n",
    "\n",
    "\n",
    "# Provide the string\n",
    "string, k = input(), int(input())\n",
    "\n",
    "# Apply function\n",
    "merge_the_tools(string, k)"
   ]
  },
  {
   "cell_type": "markdown",
   "metadata": {},
   "source": [
    "## Sets\n",
    " (all – total: 13 - max points: 170)\n",
    "https://www.hackerrank.com/domains/python/py-sets ****\n",
    "https://www.hackerrank.com/domains/python/py-sets/2"
   ]
  },
  {
   "cell_type": "markdown",
   "metadata": {},
   "source": [
    "### Introduction to Sets"
   ]
  },
  {
   "cell_type": "code",
   "execution_count": 73,
   "metadata": {},
   "outputs": [
    {
     "name": "stdin",
     "output_type": "stream",
     "text": [
      " 3\n",
      " 1 1 2\n"
     ]
    },
    {
     "name": "stdout",
     "output_type": "stream",
     "text": [
      "1.5\n"
     ]
    }
   ],
   "source": [
    "# Define function\n",
    "def average(array):\n",
    "    set_arr = set(array)\n",
    "    mean = sum(set_arr) / len(set_arr)\n",
    "    return mean\n",
    "\n",
    "\n",
    "# Provide the number and values\n",
    "n = int(input())\n",
    "arr = list(map(int, input().split()))\n",
    "\n",
    "# Apply function\n",
    "result = average(arr)\n",
    "\n",
    "# Print result\n",
    "print(result)"
   ]
  },
  {
   "cell_type": "markdown",
   "metadata": {},
   "source": [
    "### 2. Symmetric Difference"
   ]
  },
  {
   "cell_type": "code",
   "execution_count": 88,
   "metadata": {},
   "outputs": [
    {
     "name": "stdin",
     "output_type": "stream",
     "text": [
      " 1\n",
      " 1 2 3 4\n",
      " 1\n",
      " 3 4\n"
     ]
    },
    {
     "name": "stdout",
     "output_type": "stream",
     "text": [
      "1\n",
      "2\n"
     ]
    }
   ],
   "source": [
    "# Provide the numbers\n",
    "n1, M = input(), set(input().split())\n",
    "n2, N = input(), set(input().split())\n",
    "\n",
    "# Calculate symmetric difference\n",
    "result = M.symmetric_difference(N)\n",
    "\n",
    "# Convert to int\n",
    "result = list(map(int, result))\n",
    "\n",
    "# Sort result\n",
    "result = sorted(result)\n",
    "\n",
    "# Print result\n",
    "for i in result:\n",
    "    print(i)"
   ]
  },
  {
   "cell_type": "markdown",
   "metadata": {},
   "source": [
    "### 3. No Idea!"
   ]
  },
  {
   "cell_type": "code",
   "execution_count": null,
   "metadata": {},
   "outputs": [],
   "source": [
    "# Provide the numbers\n",
    "n = input()\n",
    "array = input().split()\n",
    "A = set(input().split())\n",
    "B = set(input().split())\n",
    "\n",
    "# Loop over array values\n",
    "happiness = 0\n",
    "for i in array:\n",
    "    # Check if sum to hapiness\n",
    "    if i in A:\n",
    "        happiness += 1\n",
    "    # Check if susbtract to hapiness\n",
    "    if i in B:\n",
    "        happiness -= 1\n",
    "# Print result\n",
    "print(happiness)"
   ]
  },
  {
   "cell_type": "markdown",
   "metadata": {},
   "source": [
    "### 4. Set .add()"
   ]
  },
  {
   "cell_type": "code",
   "execution_count": 95,
   "metadata": {},
   "outputs": [
    {
     "name": "stdin",
     "output_type": "stream",
     "text": [
      " 3\n",
      " cas\n",
      " perro\n",
      " cas\n"
     ]
    },
    {
     "name": "stdout",
     "output_type": "stream",
     "text": [
      "2\n"
     ]
    }
   ],
   "source": [
    "# Provide the numbers\n",
    "n = int(input())\n",
    "country_set = set()\n",
    "\n",
    "# Loop to provide the numbers\n",
    "for i in range(n):\n",
    "    country = input()\n",
    "    country_set.add(country)\n",
    "# Print result\n",
    "print(len(country_set))"
   ]
  },
  {
   "cell_type": "markdown",
   "metadata": {},
   "source": [
    "### 5. Set .discard(), .remove() & .pop()"
   ]
  },
  {
   "cell_type": "code",
   "execution_count": 96,
   "metadata": {},
   "outputs": [
    {
     "name": "stdin",
     "output_type": "stream",
     "text": [
      " 9\n",
      " 1 2 3 4 5 6 7 8 9\n",
      " 10\n",
      " pop\n",
      " remove 9\n",
      " discard 9\n",
      " discard 8\n",
      " remove 7\n",
      " pop\n",
      " discard 6\n",
      " remove 5\n",
      " pop\n",
      " discard 5\n"
     ]
    },
    {
     "name": "stdout",
     "output_type": "stream",
     "text": [
      "4\n"
     ]
    }
   ],
   "source": [
    "# Provide the number and set\n",
    "n = int(input())\n",
    "s = set(map(int, input().split()))\n",
    "\n",
    "# Loop to get functions\n",
    "for i in range(int(input())):\n",
    "    func = input().split()\n",
    "    command = func[0]\n",
    "    params = func[1:]\n",
    "    # Decide if the function is or not pop\n",
    "    if command != \"pop\":\n",
    "        eval(\"s.\" + command + \"(\" + \",\".join(params) + \")\")\n",
    "    else:\n",
    "        s.pop()\n",
    "# Imprimir resultado\n",
    "print(sum(s))"
   ]
  },
  {
   "cell_type": "markdown",
   "metadata": {},
   "source": [
    "### 6. Set .union() Operation"
   ]
  },
  {
   "cell_type": "code",
   "execution_count": 1,
   "metadata": {},
   "outputs": [
    {
     "name": "stdin",
     "output_type": "stream",
     "text": [
      " 9\n",
      " 1 2 3 4 5 6 7 8 9\n",
      " 5\n",
      " 1 2 3 4\n"
     ]
    },
    {
     "name": "stdout",
     "output_type": "stream",
     "text": [
      "9\n"
     ]
    }
   ],
   "source": [
    "# Provide the numbers and sets\n",
    "n = int(input())\n",
    "n_roll = set(input().split())\n",
    "b = int(input())\n",
    "b_roll = set(input().split())\n",
    "\n",
    "# Print result\n",
    "print(len(n_roll.union(b_roll)))"
   ]
  },
  {
   "cell_type": "markdown",
   "metadata": {},
   "source": [
    "### 7. Set .intersection() Operation"
   ]
  },
  {
   "cell_type": "code",
   "execution_count": 2,
   "metadata": {},
   "outputs": [
    {
     "name": "stdin",
     "output_type": "stream",
     "text": [
      " 9\n",
      " 1 2 3 4 5\n",
      " 9\n",
      " 1 2 3\n"
     ]
    },
    {
     "name": "stdout",
     "output_type": "stream",
     "text": [
      "3\n"
     ]
    }
   ],
   "source": [
    "# Provide the numbers and sets\n",
    "n = int(input())\n",
    "n_roll = set(input().split())\n",
    "b = int(input())\n",
    "b_roll = set(input().split())\n",
    "\n",
    "# Print result\n",
    "print(len(n_roll.intersection(b_roll)))"
   ]
  },
  {
   "cell_type": "markdown",
   "metadata": {},
   "source": [
    "### 8. Set .difference() Operation"
   ]
  },
  {
   "cell_type": "code",
   "execution_count": 3,
   "metadata": {},
   "outputs": [
    {
     "name": "stdin",
     "output_type": "stream",
     "text": [
      " 9\n",
      " 1 2 3 4 5\n",
      " 9\n",
      " 1 2 3\n"
     ]
    },
    {
     "name": "stdout",
     "output_type": "stream",
     "text": [
      "2\n"
     ]
    }
   ],
   "source": [
    "# Provide the numbers and sets\n",
    "n = int(input())\n",
    "n_roll = set(input().split())\n",
    "b = int(input())\n",
    "b_roll = set(input().split())\n",
    "\n",
    "# Print result\n",
    "print(len(n_roll.difference(b_roll)))"
   ]
  },
  {
   "cell_type": "markdown",
   "metadata": {},
   "source": [
    "### 9. Set .symmetric_difference() Operation"
   ]
  },
  {
   "cell_type": "code",
   "execution_count": null,
   "metadata": {},
   "outputs": [],
   "source": [
    "# Provide the numbers and sets\n",
    "n = int(input())\n",
    "n_roll = set(input().split())\n",
    "b = int(input())\n",
    "b_roll = set(input().split())\n",
    "\n",
    "# Print result\n",
    "print(len(n_roll.symmetric_difference(b_roll)))"
   ]
  },
  {
   "cell_type": "markdown",
   "metadata": {},
   "source": [
    "### 10. Set Mutations"
   ]
  },
  {
   "cell_type": "code",
   "execution_count": 6,
   "metadata": {},
   "outputs": [
    {
     "name": "stdin",
     "output_type": "stream",
     "text": [
      " 16\n",
      " 1 2 3 4 5 6 7 8 9 10 11 12 13 14 24 52\n",
      " 4\n",
      " intersection_update 10\n",
      " 2 3 5 6 8 9 1 4 7 11\n",
      " update 2\n",
      " 55 66\n",
      " symmetric_difference_update 5\n",
      " 22 7 35 62 58\n",
      " difference_update 7\n",
      " 11 22 35 55 58 62 66\n"
     ]
    },
    {
     "name": "stdout",
     "output_type": "stream",
     "text": [
      "38\n"
     ]
    }
   ],
   "source": [
    "# Provide the number and set\n",
    "n_A = int(input())\n",
    "A = set(map(int, input().split()))\n",
    "\n",
    "# Loop to get functions\n",
    "for i in range(int(input())):\n",
    "    func = input().split()\n",
    "    command = func[0]\n",
    "    set2 = set(map(int, input().split()))\n",
    "    eval(\"A.\" + command + \"(set2)\")\n",
    "# Imprimir resultado\n",
    "print(sum(A))"
   ]
  },
  {
   "cell_type": "markdown",
   "metadata": {},
   "source": [
    "### 11. The Captain's Room\n",
    "\n",
    "I looked at the answer to this exercise"
   ]
  },
  {
   "cell_type": "code",
   "execution_count": 8,
   "metadata": {},
   "outputs": [
    {
     "name": "stdin",
     "output_type": "stream",
     "text": [
      " 5\n",
      " 1 2 3 6 5 4 4 2 5 3 6 1 6 5 3 2 4 1 2 5 1 4 3 6 8 4 3 1 5 6 2 \n"
     ]
    },
    {
     "name": "stdout",
     "output_type": "stream",
     "text": [
      "8\n"
     ]
    }
   ],
   "source": [
    "# Provide the number\n",
    "k = input()\n",
    "\n",
    "# Loop over rooms\n",
    "set1 = set()\n",
    "set2 = set()\n",
    "for i in input().split():\n",
    "    if i not in set1:\n",
    "        set1.add(i)\n",
    "    else:\n",
    "        set2.add(i)\n",
    "set1.difference_update(set2)\n",
    "# Print result\n",
    "print(set1.pop())"
   ]
  },
  {
   "cell_type": "markdown",
   "metadata": {},
   "source": [
    "### 12. Check Subset"
   ]
  },
  {
   "cell_type": "code",
   "execution_count": 13,
   "metadata": {},
   "outputs": [
    {
     "name": "stdin",
     "output_type": "stream",
     "text": [
      " 1\n",
      " 1 2 3\n",
      " 4\n",
      " 1 2 3 4\n",
      " 5\n"
     ]
    },
    {
     "name": "stdout",
     "output_type": "stream",
     "text": [
      "False\n"
     ]
    }
   ],
   "source": [
    "# Loop over tests\n",
    "n = int(input())\n",
    "for i in range(n):\n",
    "    # Provide numbers and sets\n",
    "    n_A = input()\n",
    "    A = set(map(int, input().split()))\n",
    "    n_B = input()\n",
    "    B = set(map(int, input().split()))\n",
    "\n",
    "    # Return result\n",
    "    print(A.issubset(B))"
   ]
  },
  {
   "cell_type": "markdown",
   "metadata": {},
   "source": [
    "### 13. Check Strict Superset"
   ]
  },
  {
   "cell_type": "code",
   "execution_count": 14,
   "metadata": {},
   "outputs": [
    {
     "name": "stdin",
     "output_type": "stream",
     "text": [
      " 1 2 3 4 5 6 7 8 9 10 11 12 23 45 84 78\n",
      " 2\n",
      " 1 2 3 4 5\n",
      " 100 11 12\n"
     ]
    },
    {
     "name": "stdout",
     "output_type": "stream",
     "text": [
      "False\n"
     ]
    }
   ],
   "source": [
    "# Provide the number\n",
    "A = set(input().split())\n",
    "cont = 0\n",
    "n = int(input())\n",
    "# Loop over number\n",
    "for i in range(n):\n",
    "    # Provide the sets\n",
    "    sets = set(input().split())\n",
    "    # Check if is superset\n",
    "    if A.issuperset(sets):\n",
    "        cont += 1\n",
    "# Print result\n",
    "print(cont == n)"
   ]
  },
  {
   "cell_type": "markdown",
   "metadata": {},
   "source": [
    "## Collections\n",
    "(all – total: 8 - max points: 220)\n",
    "https://www.hackerrank.com/domains/python/py-collections"
   ]
  },
  {
   "cell_type": "markdown",
   "metadata": {},
   "source": [
    "### 1. collections.Counter()"
   ]
  },
  {
   "cell_type": "code",
   "execution_count": 2,
   "metadata": {},
   "outputs": [
    {
     "name": "stdin",
     "output_type": "stream",
     "text": [
      " 2\n",
      " 1 2 3 3 2 1\n",
      " 2\n",
      " 1 3\n",
      " 2 6\n"
     ]
    },
    {
     "name": "stdout",
     "output_type": "stream",
     "text": [
      "9\n"
     ]
    }
   ],
   "source": [
    "# Import library\n",
    "import collections\n",
    "\n",
    "# Provide the numbers and list\n",
    "X = int(input())\n",
    "shoe_sizes = collections.Counter(map(int, input().split()))\n",
    "N = int(input())\n",
    "\n",
    "# Loop over customers\n",
    "money = 0\n",
    "for i in range(N):\n",
    "    size, price = map(int, input().split())\n",
    "    # Check if available shoes\n",
    "    if shoe_sizes[size]:\n",
    "        money += price\n",
    "        shoe_sizes[size] -= 1\n",
    "# Print result\n",
    "print(money)"
   ]
  },
  {
   "cell_type": "markdown",
   "metadata": {},
   "source": [
    "### 2. DefaultDict Tutorial"
   ]
  },
  {
   "cell_type": "code",
   "execution_count": 3,
   "metadata": {},
   "outputs": [
    {
     "name": "stdin",
     "output_type": "stream",
     "text": [
      " 5 2\n",
      " a\n",
      " a\n",
      " b\n",
      " a\n",
      " b\n",
      " a\n"
     ]
    },
    {
     "name": "stdout",
     "output_type": "stream",
     "text": [
      "1 2 4\n"
     ]
    },
    {
     "name": "stdin",
     "output_type": "stream",
     "text": [
      " a\n"
     ]
    },
    {
     "name": "stdout",
     "output_type": "stream",
     "text": [
      "1 2 4\n"
     ]
    }
   ],
   "source": [
    "# Import library\n",
    "import collections\n",
    "\n",
    "# Provide the numbers and dictionary\n",
    "n, m = map(int, input().split())\n",
    "dicc = collections.defaultdict(list)\n",
    "\n",
    "# Loop over group A\n",
    "for i in range(1, n + 1):\n",
    "    dicc[input()].append(str(i))\n",
    "# Loop over group B\n",
    "for i in range(m):\n",
    "    print(\" \".join(dicc[input()]) or -1)"
   ]
  },
  {
   "cell_type": "markdown",
   "metadata": {},
   "source": [
    "### 3. Collections.namedtuple()"
   ]
  },
  {
   "cell_type": "code",
   "execution_count": 5,
   "metadata": {},
   "outputs": [
    {
     "name": "stdin",
     "output_type": "stream",
     "text": [
      " 5\n",
      " ID         MARKS      NAME       CLASS     \n",
      " 1          97         Raymond    7         \n",
      " 2          50         Steven     4         \n",
      " 3          91         Adrian     9         \n",
      " 4          72         Stewart    5         \n",
      " 5          80         Peter      6 \n"
     ]
    },
    {
     "name": "stdout",
     "output_type": "stream",
     "text": [
      "78.0\n"
     ]
    }
   ],
   "source": [
    "# Import library\n",
    "import collections\n",
    "\n",
    "# Provide the number and colum names\n",
    "N = int(input())\n",
    "columns = \",\".join(input().split())\n",
    "students_tp = collections.namedtuple(\"students_tp\", columns)\n",
    "\n",
    "# Loop over students\n",
    "sum = 0\n",
    "for i in range(N):\n",
    "    row = input().split()\n",
    "    # Store row of each student\n",
    "    student = students_tp(*row)\n",
    "    sum += int(student.MARKS)\n",
    "# Print result\n",
    "print(sum / N)"
   ]
  },
  {
   "cell_type": "markdown",
   "metadata": {},
   "source": [
    "### 4. Collections.OrderedDict()"
   ]
  },
  {
   "cell_type": "code",
   "execution_count": 7,
   "metadata": {},
   "outputs": [
    {
     "name": "stdin",
     "output_type": "stream",
     "text": [
      " 9\n",
      " BANANA FRIES 12\n",
      " POTATO CHIPS 30\n",
      " APPLE JUICE 10\n",
      " CANDY 5\n",
      " APPLE JUICE 10\n",
      " CANDY 5\n",
      " CANDY 5\n",
      " CANDY 5\n",
      " POTATO CHIPS 30\n"
     ]
    },
    {
     "name": "stdout",
     "output_type": "stream",
     "text": [
      "BANANA FRIES 12\n",
      "POTATO CHIPS 60\n",
      "APPLE JUICE 20\n",
      "CANDY 20\n"
     ]
    },
    {
     "data": {
      "text/plain": [
       "[None, None, None, None]"
      ]
     },
     "execution_count": 7,
     "metadata": {},
     "output_type": "execute_result"
    }
   ],
   "source": [
    "# Import library\n",
    "import collections\n",
    "\n",
    "# Generate dictionary\n",
    "dicc = collections.OrderedDict()\n",
    "N = int(input())\n",
    "\n",
    "# Loop over items\n",
    "for i in range(N):\n",
    "    item, price = input().rsplit(\" \", 1)\n",
    "    dicc[item] = dicc.get(item, 0) + int(price)\n",
    "# Print result\n",
    "[print(i, dicc[i]) for i in dicc]"
   ]
  },
  {
   "cell_type": "markdown",
   "metadata": {},
   "source": [
    "### 5. Word Order"
   ]
  },
  {
   "cell_type": "code",
   "execution_count": 9,
   "metadata": {},
   "outputs": [
    {
     "name": "stdin",
     "output_type": "stream",
     "text": [
      " 4\n",
      " hola\n",
      " lao\n",
      " oloh\n",
      " hola\n"
     ]
    },
    {
     "name": "stdout",
     "output_type": "stream",
     "text": [
      "3\n",
      "2 1 1 "
     ]
    }
   ],
   "source": [
    "# Import library\n",
    "import collections\n",
    "\n",
    "# Provide the number\n",
    "n = int(input())\n",
    "dicc = collections.OrderedDict()\n",
    "\n",
    "# Loop over numbers\n",
    "for i in range(n):\n",
    "    word = input()\n",
    "    # Check if word exists previously\n",
    "    if word in dicc:\n",
    "        dicc[word] += 1\n",
    "    else:\n",
    "        dicc[word] = 1\n",
    "# Print result\n",
    "print(len(dicc))\n",
    "for i, j in dicc.items():\n",
    "    print(j, end=\" \")"
   ]
  },
  {
   "cell_type": "markdown",
   "metadata": {},
   "source": [
    "### 6. collections.deque()"
   ]
  },
  {
   "cell_type": "code",
   "execution_count": 10,
   "metadata": {},
   "outputs": [
    {
     "name": "stdin",
     "output_type": "stream",
     "text": [
      " 6\n",
      " append 1\n",
      " append 2\n",
      " append 3\n",
      " appendleft 4\n",
      " pop\n",
      " popleft\n"
     ]
    },
    {
     "name": "stdout",
     "output_type": "stream",
     "text": [
      "1 2\n"
     ]
    }
   ],
   "source": [
    "# Import library\n",
    "import collections\n",
    "\n",
    "# Provide the number and set\n",
    "N = int(input())\n",
    "s = collections.deque()\n",
    "\n",
    "# Loop to get functions\n",
    "for i in range(N):\n",
    "    func = input().split()\n",
    "    command = func[0]\n",
    "    params = func[1:]\n",
    "    # Decide if the function is or not pop\n",
    "    if command != \"pop\":\n",
    "        eval(\"s.\" + command + \"(\" + \",\".join(params) + \")\")\n",
    "    else:\n",
    "        s.pop()\n",
    "# Imprimir resultado\n",
    "print(*s)"
   ]
  },
  {
   "cell_type": "markdown",
   "metadata": {},
   "source": [
    "### 7. Piling Up!\n",
    "I looked at the discussion forum in this exercise because I couldn't understand correctly the directions."
   ]
  },
  {
   "cell_type": "code",
   "execution_count": 12,
   "metadata": {},
   "outputs": [
    {
     "name": "stdin",
     "output_type": "stream",
     "text": [
      " 2\n",
      " 6\n",
      " 4 3 2 1 3 4\n"
     ]
    },
    {
     "name": "stdout",
     "output_type": "stream",
     "text": [
      "Yes\n"
     ]
    },
    {
     "name": "stdin",
     "output_type": "stream",
     "text": [
      " 3\n",
      " 1 3 2\n"
     ]
    },
    {
     "name": "stdout",
     "output_type": "stream",
     "text": [
      "No\n"
     ]
    }
   ],
   "source": [
    "# Import library\n",
    "import collections\n",
    "\n",
    "# Provide the number\n",
    "T = int(input())\n",
    "\n",
    "# Loop over tests\n",
    "for i in range(T):\n",
    "    k, n = input(), collections.deque(map(int, input().split()))\n",
    "    result = True\n",
    "\n",
    "    # Loop over tests\n",
    "    for j in range(len(n) - 1):\n",
    "        if n[0] >= n[1]:\n",
    "            n.popleft()\n",
    "        elif n[-1] >= n[-2]:\n",
    "            n.pop()\n",
    "        else:\n",
    "            result = False\n",
    "            break\n",
    "    # Print result\n",
    "    if result:\n",
    "        print(\"Yes\")\n",
    "    else:\n",
    "        print(\"No\")"
   ]
  },
  {
   "cell_type": "markdown",
   "metadata": {},
   "source": [
    "### 8. Company Logo"
   ]
  },
  {
   "cell_type": "code",
   "execution_count": 14,
   "metadata": {},
   "outputs": [
    {
     "name": "stdin",
     "output_type": "stream",
     "text": [
      " aabbbccde\n"
     ]
    },
    {
     "name": "stdout",
     "output_type": "stream",
     "text": [
      "b 3\n",
      "a 2\n",
      "c 2\n"
     ]
    }
   ],
   "source": [
    "# Import libraries\n",
    "import math\n",
    "import os\n",
    "import random\n",
    "import re\n",
    "import sys\n",
    "import collections\n",
    "\n",
    "# Provide the string\n",
    "s = input().strip()\n",
    "s = sorted(s)\n",
    "\n",
    "# Get count and most common\n",
    "count = collections.Counter(s).most_common()\n",
    "\n",
    "# Sort\n",
    "count = sorted(count, key=lambda x: (x[1] * -1, x[0]))\n",
    "\n",
    "# Print result\n",
    "for i in range(0, 3):\n",
    "    print(count[i][0], count[i][1])"
   ]
  },
  {
   "cell_type": "markdown",
   "metadata": {},
   "source": [
    "## Date and Time\n",
    " (all – total: 2 - max points: 40)\n",
    "https://www.hackerrank.com/domains/python/py-date-time"
   ]
  },
  {
   "cell_type": "markdown",
   "metadata": {},
   "source": [
    "### 1. Calendar Module"
   ]
  },
  {
   "cell_type": "code",
   "execution_count": 20,
   "metadata": {},
   "outputs": [
    {
     "name": "stdin",
     "output_type": "stream",
     "text": [
      " 08 05 2015\n"
     ]
    },
    {
     "name": "stdout",
     "output_type": "stream",
     "text": [
      "WEDNESDAY\n"
     ]
    }
   ],
   "source": [
    "# Import library\n",
    "import calendar\n",
    "\n",
    "# Provide the date\n",
    "mm, dd, yy = map(int, input().split())\n",
    "\n",
    "# Print result\n",
    "result = calendar.day_name[calendar.weekday(yy, mm, dd)].upper()\n",
    "print(result)"
   ]
  },
  {
   "cell_type": "markdown",
   "metadata": {},
   "source": [
    "### 2. Time Delta"
   ]
  },
  {
   "cell_type": "code",
   "execution_count": 19,
   "metadata": {},
   "outputs": [
    {
     "name": "stdin",
     "output_type": "stream",
     "text": [
      " 2\n",
      " Sun 10 May 2015 13:54:36 -0700\n",
      " Sun 10 May 2015 13:54:36 -0000\n"
     ]
    },
    {
     "name": "stdout",
     "output_type": "stream",
     "text": [
      "False\n"
     ]
    },
    {
     "name": "stdin",
     "output_type": "stream",
     "text": [
      " Sat 02 May 2015 19:54:36 +0530\n",
      " Fri 01 May 2015 13:54:36 -0000\n"
     ]
    },
    {
     "name": "stdout",
     "output_type": "stream",
     "text": [
      "False\n"
     ]
    }
   ],
   "source": [
    "# Import libraries\n",
    "import math\n",
    "import os\n",
    "import random\n",
    "import re\n",
    "import sys\n",
    "import datetime\n",
    "\n",
    "# Complete the time_delta function below.\n",
    "def time_delta(t1, t2):\n",
    "    # Establish date format\n",
    "    format_time = \"%a %d %b %Y %H:%M:%S %z\"\n",
    "    # Provide the dates\n",
    "    t1 = datetime.datetime.strptime(t1, format_time)\n",
    "    t2 = datetime.datetime.strptime(t2, format_time)\n",
    "    # Calculate delta\n",
    "    result = str(int(abs((t1 - t2).total_seconds())))\n",
    "    return result\n",
    "\n",
    "\n",
    "# Provide the number\n",
    "T = int(input())\n",
    "\n",
    "# Loop over dates\n",
    "for i in range(T):\n",
    "    t1 = input()\n",
    "    t2 = input()\n",
    "\n",
    "    # Apply function\n",
    "    delta = time_delta(t1, t2)\n",
    "\n",
    "    # Print result\n",
    "    print(result)"
   ]
  },
  {
   "cell_type": "markdown",
   "metadata": {},
   "source": [
    "## Exceptions\n",
    " (only 1 - max points: 10)\n",
    "https://www.hackerrank.com/challenges/exceptions"
   ]
  },
  {
   "cell_type": "code",
   "execution_count": 22,
   "metadata": {},
   "outputs": [
    {
     "name": "stdin",
     "output_type": "stream",
     "text": [
      " 3\n",
      " 1 0\n"
     ]
    },
    {
     "name": "stdout",
     "output_type": "stream",
     "text": [
      "Error Code: integer division or modulo by zero\n"
     ]
    },
    {
     "name": "stdin",
     "output_type": "stream",
     "text": [
      " 2 $\n"
     ]
    },
    {
     "name": "stdout",
     "output_type": "stream",
     "text": [
      "Error Code: invalid literal for int() with base 10: '$'\n"
     ]
    },
    {
     "name": "stdin",
     "output_type": "stream",
     "text": [
      " 3 1\n"
     ]
    },
    {
     "name": "stdout",
     "output_type": "stream",
     "text": [
      "3\n"
     ]
    }
   ],
   "source": [
    "# Provide the number\n",
    "T = int(input())\n",
    "\n",
    "# Loop over cases\n",
    "for i in range(T):\n",
    "    a, b = input().split()\n",
    "\n",
    "    # Check if there is an error\n",
    "    try:\n",
    "        print(int(a) // int(b))\n",
    "    except BaseException as err:\n",
    "        print(\"Error Code:\", err)"
   ]
  },
  {
   "cell_type": "markdown",
   "metadata": {},
   "source": [
    "## Built-ins\n",
    " (only 3 - max points: 80)\n",
    "https://www.hackerrank.com/challenges/zipped  ---- \n",
    "https://www.hackerrank.com/challenges/python-sort-sort  ---- \n",
    "https://www.hackerrank.com/challenges/ginorts"
   ]
  },
  {
   "cell_type": "markdown",
   "metadata": {},
   "source": [
    "### 1. Zipped!\n",
    "This program runs well in Hackerranks, but here there is an error I could not understand why happened"
   ]
  },
  {
   "cell_type": "code",
   "execution_count": 49,
   "metadata": {},
   "outputs": [
    {
     "name": "stdin",
     "output_type": "stream",
     "text": [
      " 5 3\n",
      " 89 90 78 93 80\n",
      " 90 91 85 88 86\n",
      " 91 92 83 89 90.5\n"
     ]
    }
   ],
   "source": [
    "# Provide the numbers\n",
    "N, X = map(int, input().split())\n",
    "\n",
    "# Loop over students marks\n",
    "all_marks = list()\n",
    "for i in range(X):\n",
    "    marks = map(float, input().split())\n",
    "    # Append marks\n",
    "    all_marks.append(marks)\n",
    "# Print result\n",
    "for i in zip(*all_marks):\n",
    "    print(sum(i) / len(i))"
   ]
  },
  {
   "cell_type": "markdown",
   "metadata": {},
   "source": [
    "### 2. Athlete Sort\n",
    " I looked at the solution of this problem to know how to begin"
   ]
  },
  {
   "cell_type": "code",
   "execution_count": 50,
   "metadata": {},
   "outputs": [
    {
     "name": "stdin",
     "output_type": "stream",
     "text": [
      " 5 3\n",
      " 10 2 5\n",
      " 7 1 0\n",
      " 9 9 9\n",
      " 1 23 12\n",
      " 6 5 9\n",
      " 1\n"
     ]
    },
    {
     "name": "stdout",
     "output_type": "stream",
     "text": [
      "7 1 0\n",
      "10 2 5\n",
      "6 5 9\n",
      "9 9 9\n",
      "1 23 12\n"
     ]
    }
   ],
   "source": [
    "# Impot libraries\n",
    "import math\n",
    "import os\n",
    "import random\n",
    "import re\n",
    "import sys\n",
    "\n",
    "# Provide the numbers\n",
    "nm = input().split()\n",
    "n = int(nm[0])\n",
    "m = int(nm[1])\n",
    "arr = []\n",
    "\n",
    "# Loop over athletes\n",
    "for i in range(n):\n",
    "    arr.append(list(map(int, input().rstrip().split())))\n",
    "# Provide the numbers\n",
    "k = int(input())\n",
    "\n",
    "arr.sort(key=lambda x: x[k])\n",
    "\n",
    "# Print result\n",
    "for line in arr:\n",
    "    print(*line, sep=\" \")"
   ]
  },
  {
   "cell_type": "markdown",
   "metadata": {},
   "source": [
    "### 3. ginortS"
   ]
  },
  {
   "cell_type": "code",
   "execution_count": 55,
   "metadata": {},
   "outputs": [
    {
     "name": "stdin",
     "output_type": "stream",
     "text": [
      " Sorting1234\n"
     ]
    },
    {
     "name": "stdout",
     "output_type": "stream",
     "text": [
      "ginortS1324\n"
     ]
    }
   ],
   "source": [
    "# Loop over string\n",
    "lower = []\n",
    "upper = []\n",
    "odd = []\n",
    "even = []\n",
    "for i in sorted(input()):\n",
    "    # Check if char is alphanumeric\n",
    "    if i.isalpha():\n",
    "        # Check if char is uppercase\n",
    "        if i.isupper():\n",
    "            aux = upper\n",
    "        else:\n",
    "            aux = lower\n",
    "    else:\n",
    "        if int(i) % 2:\n",
    "            aux = odd\n",
    "        else:\n",
    "            aux = even\n",
    "    aux.append(i)\n",
    "print(\"\".join(lower + upper + odd + even))"
   ]
  },
  {
   "cell_type": "markdown",
   "metadata": {},
   "source": [
    "## Python Functionals\n",
    " (only 1 - max points: 20)\n",
    "https://www.hackerrank.com/challenges/map-and-lambda-expression"
   ]
  },
  {
   "cell_type": "code",
   "execution_count": 66,
   "metadata": {},
   "outputs": [
    {
     "name": "stdin",
     "output_type": "stream",
     "text": [
      " 5\n"
     ]
    },
    {
     "name": "stdout",
     "output_type": "stream",
     "text": [
      "[0, 1, 1, 8, 27]\n"
     ]
    }
   ],
   "source": [
    "# Create cube function with lambda\n",
    "cube = lambda x: x ** 3\n",
    "\n",
    "# Define fibonacci function\n",
    "def fibonacci(n):\n",
    "    x1 = 0\n",
    "    x2 = 1\n",
    "    # Loop over number\n",
    "    for i in range(n):\n",
    "        # Keep the value of a even outside function\n",
    "        yield x1\n",
    "        # Calculate sums with previous values\n",
    "        x1, x2 = x2, x1 + x2\n",
    "\n",
    "\n",
    "# Provide the number\n",
    "n = int(input())\n",
    "\n",
    "# Print result\n",
    "print(list(map(cube, fibonacci(n))))"
   ]
  },
  {
   "cell_type": "markdown",
   "metadata": {},
   "source": [
    "## Regex and Parsing challenges\n",
    " (all – total: 17 - max points: 560)\n",
    "https://www.hackerrank.com/domains/python/py-regex ----\n",
    "https://www.hackerrank.com/domains/python/py-regex/2"
   ]
  },
  {
   "cell_type": "markdown",
   "metadata": {},
   "source": [
    "### 1. Detect Floating Point Number\n",
    "\n",
    "I looked at the answer of this exercise"
   ]
  },
  {
   "cell_type": "code",
   "execution_count": 247,
   "metadata": {},
   "outputs": [
    {
     "name": "stdin",
     "output_type": "stream",
     "text": [
      " 4\n",
      " 4.0O0\n"
     ]
    },
    {
     "name": "stdout",
     "output_type": "stream",
     "text": [
      "False\n"
     ]
    },
    {
     "name": "stdin",
     "output_type": "stream",
     "text": [
      " -1.00\n"
     ]
    },
    {
     "name": "stdout",
     "output_type": "stream",
     "text": [
      "True\n"
     ]
    },
    {
     "name": "stdin",
     "output_type": "stream",
     "text": [
      " +4.54\n"
     ]
    },
    {
     "name": "stdout",
     "output_type": "stream",
     "text": [
      "True\n"
     ]
    },
    {
     "name": "stdin",
     "output_type": "stream",
     "text": [
      " SomeRandomStuff\n"
     ]
    },
    {
     "name": "stdout",
     "output_type": "stream",
     "text": [
      "False\n"
     ]
    }
   ],
   "source": [
    "# Import library\n",
    "import re\n",
    "\n",
    "# Provide the string\n",
    "N = int(input())\n",
    "\n",
    "# Loop over number\n",
    "for i in range(N):\n",
    "    s = input()\n",
    "\n",
    "    # Print result\n",
    "    regex_pattern = r\"^[-+]?[0-9]*\\.[0-9]+$\"\n",
    "    result = bool(re.match(regex_pattern, s))\n",
    "    print(result)"
   ]
  },
  {
   "cell_type": "markdown",
   "metadata": {},
   "source": [
    "### 2. Re.split()"
   ]
  },
  {
   "cell_type": "code",
   "execution_count": 27,
   "metadata": {},
   "outputs": [
    {
     "name": "stdin",
     "output_type": "stream",
     "text": [
      " 100,000,000.00\n"
     ]
    },
    {
     "name": "stdout",
     "output_type": "stream",
     "text": [
      "100\n",
      "000\n",
      "000\n",
      "00\n"
     ]
    }
   ],
   "source": [
    "# Import library\n",
    "import re\n",
    "\n",
    "# Define pattern\n",
    "regex_pattern = r\"[,.]+\"\n",
    "s = input()\n",
    "\n",
    "# Print result\n",
    "result = \"\\n\".join(re.split(regex_pattern, s))\n",
    "print(result)"
   ]
  },
  {
   "cell_type": "markdown",
   "metadata": {},
   "source": [
    "### 3. Group(), Groups() & Groupdict()"
   ]
  },
  {
   "cell_type": "code",
   "execution_count": 306,
   "metadata": {},
   "outputs": [
    {
     "name": "stdin",
     "output_type": "stream",
     "text": [
      " 1..0011\n"
     ]
    },
    {
     "name": "stdout",
     "output_type": "stream",
     "text": [
      "0\n"
     ]
    }
   ],
   "source": [
    "# Import library\n",
    "import re\n",
    "\n",
    "# Define pattern\n",
    "regex_pattern = r\"([a-zA-Z0-9])\\1\"\n",
    "s = input()\n",
    "found = re.search(regex_pattern, s)\n",
    "\n",
    "# Print result\n",
    "if found:\n",
    "    print(found.group(1))\n",
    "else:\n",
    "    print(-1)"
   ]
  },
  {
   "cell_type": "markdown",
   "metadata": {},
   "source": [
    "### 4. Re.findall() & Re.finditer()"
   ]
  },
  {
   "cell_type": "code",
   "execution_count": 29,
   "metadata": {},
   "outputs": [
    {
     "name": "stdin",
     "output_type": "stream",
     "text": [
      " rabcdeefgyYhFjkIoomnpOeorteeeeet\n"
     ]
    },
    {
     "name": "stdout",
     "output_type": "stream",
     "text": [
      "ee\n",
      "Ioo\n",
      "Oeo\n",
      "eeeee\n"
     ]
    }
   ],
   "source": [
    "# Import library\n",
    "import re\n",
    "\n",
    "# Define pattern\n",
    "regex_pattern = r\"(?<=[qwrtypsdfghjklzxcvbnm])([aeiou]{2,})(?=[qwrtypsdfghjklzxcvbnm])\"\n",
    "s = input().strip()\n",
    "found = re.findall(regex_pattern, s, re.IGNORECASE)\n",
    "\n",
    "# Print result\n",
    "if found:\n",
    "    for i in found:\n",
    "        print(i)\n",
    "else:\n",
    "    print(-1)"
   ]
  },
  {
   "cell_type": "markdown",
   "metadata": {},
   "source": [
    "### 5. Re.start() & Re.end()\n",
    "\n",
    "In this exercise I checked the answer of Hackerranks"
   ]
  },
  {
   "cell_type": "code",
   "execution_count": 31,
   "metadata": {},
   "outputs": [
    {
     "name": "stdin",
     "output_type": "stream",
     "text": [
      " asdsassaa\n",
      " aa\n"
     ]
    },
    {
     "name": "stdout",
     "output_type": "stream",
     "text": [
      "(7, 8)\n"
     ]
    }
   ],
   "source": [
    "# Import library\n",
    "import re\n",
    "\n",
    "# Provide the strings\n",
    "s = input()\n",
    "k = input()\n",
    "sub = re.compile(k)\n",
    "found = sub.search(s)\n",
    "\n",
    "# Find patterns recursively\n",
    "if found:\n",
    "    while found:\n",
    "        print(\"({}, {})\".format(found.start(), found.end() - 1))\n",
    "        found = sub.search(s, found.start() + 1)\n",
    "else:\n",
    "    print(\"(-1, -1)\")"
   ]
  },
  {
   "cell_type": "markdown",
   "metadata": {},
   "source": [
    "### 6. Regex Substitution"
   ]
  },
  {
   "cell_type": "code",
   "execution_count": 32,
   "metadata": {},
   "outputs": [
    {
     "name": "stdin",
     "output_type": "stream",
     "text": [
      " 1\n",
      " a && 1 & 2  || 3 ||\n"
     ]
    },
    {
     "name": "stdout",
     "output_type": "stream",
     "text": [
      "a and 1 & 2  or 3 ||\n"
     ]
    }
   ],
   "source": [
    "# Import library\n",
    "import re\n",
    "\n",
    "# Provide the number\n",
    "N = int(input())\n",
    "\n",
    "# Loop over lines\n",
    "for i in range(N):\n",
    "    # Provide the string\n",
    "    s = input()\n",
    "\n",
    "    # Define pattern\n",
    "    regex_pattern1 = r\"(?<= )(&&)(?= )\"\n",
    "    regex_pattern2 = r\"(?<= )(\\|\\|)(?= )\"\n",
    "    s = re.sub(regex_pattern1, \"and\", s)\n",
    "    s = re.sub(regex_pattern2, \"or\", s)\n",
    "\n",
    "    # Print result\n",
    "    print(s)"
   ]
  },
  {
   "cell_type": "markdown",
   "metadata": {},
   "source": [
    "### 7. Validating Roman Numerals "
   ]
  },
  {
   "cell_type": "code",
   "execution_count": 35,
   "metadata": {},
   "outputs": [
    {
     "name": "stdin",
     "output_type": "stream",
     "text": [
      " MMMCCCDXI\n"
     ]
    },
    {
     "name": "stdout",
     "output_type": "stream",
     "text": [
      "False\n"
     ]
    }
   ],
   "source": [
    "# Import library\n",
    "import re\n",
    "\n",
    "# Define pattern\n",
    "regex_pattern = r\"^M{0,3}(CM|CD|D?C{0,3})(XC|XL|L?X{0,3})(IX|IV|V?I{0,3})$\"\n",
    "\n",
    "# Print result\n",
    "print(str(bool(re.match(regex_pattern, input()))))"
   ]
  },
  {
   "cell_type": "markdown",
   "metadata": {},
   "source": [
    "### 8. Validating phone numbers"
   ]
  },
  {
   "cell_type": "code",
   "execution_count": 38,
   "metadata": {},
   "outputs": [
    {
     "name": "stdin",
     "output_type": "stream",
     "text": [
      " 1\n",
      " 999999999\n"
     ]
    },
    {
     "name": "stdout",
     "output_type": "stream",
     "text": [
      "NO\n"
     ]
    }
   ],
   "source": [
    "# Import library\n",
    "import re\n",
    "\n",
    "# Provide the number\n",
    "N = int(input())\n",
    "\n",
    "# Loop over number\n",
    "for i in range(N):\n",
    "    # Define pattern\n",
    "    regex_pattern = r\"[789]\\d{9}$\"\n",
    "\n",
    "    # Print result\n",
    "    if re.match(regex_pattern, input()):\n",
    "        print(\"YES\")\n",
    "    else:\n",
    "        print(\"NO\")"
   ]
  },
  {
   "cell_type": "markdown",
   "metadata": {},
   "source": [
    "### 9. Validating and Parsing Email Addresses"
   ]
  },
  {
   "cell_type": "code",
   "execution_count": 43,
   "metadata": {},
   "outputs": [
    {
     "name": "stdin",
     "output_type": "stream",
     "text": [
      " 1\n",
      " DEXTER <dexter@hotmail.com>\n"
     ]
    },
    {
     "name": "stdout",
     "output_type": "stream",
     "text": [
      "DEXTER <dexter@hotmail.com>\n"
     ]
    }
   ],
   "source": [
    "# Import library\n",
    "import re\n",
    "\n",
    "# Provide the number\n",
    "n = int(input())\n",
    "\n",
    "# Loop over number\n",
    "for i in range(n):\n",
    "    # Provide the strings\n",
    "    name, email = input().split(\" \")\n",
    "\n",
    "    # Define pattern\n",
    "    regex_pattern = r\"<[A-Za-z](\\w|-|\\.|_)+@[A-Za-z]+\\.[A-Za-z]{1,3}>\"\n",
    "    found = re.match(regex_pattern, email)\n",
    "\n",
    "    # Print result\n",
    "    if found:\n",
    "        print(name, email)"
   ]
  },
  {
   "cell_type": "markdown",
   "metadata": {},
   "source": [
    "### 10. Hex Color Code\n",
    "\n",
    "I look at the answer of this exercise to know to avoid words like #BED"
   ]
  },
  {
   "cell_type": "code",
   "execution_count": 14,
   "metadata": {},
   "outputs": [
    {
     "name": "stdin",
     "output_type": "stream",
     "text": [
      " 1\n",
      " #BED\n"
     ]
    }
   ],
   "source": [
    "# Import library\n",
    "import re\n",
    "\n",
    "# Provide the number\n",
    "N = int(input())\n",
    "\n",
    "# Loop over number\n",
    "for i in range(N):\n",
    "\n",
    "    # Define pattern\n",
    "    regex_pattern = r\":?.(#[0-9A-Fa-f]{6}|#[0-9A-Fa-f]{3})\"\n",
    "    found = re.findall(regex_pattern, input())\n",
    "\n",
    "    # Print result\n",
    "    if found:\n",
    "        print(*found, sep=\"\\n\")"
   ]
  },
  {
   "cell_type": "markdown",
   "metadata": {},
   "source": [
    "### 11. HTML Parser - Part 1"
   ]
  },
  {
   "cell_type": "code",
   "execution_count": 12,
   "metadata": {},
   "outputs": [
    {
     "name": "stdin",
     "output_type": "stream",
     "text": [
      " 2\n",
      " <body data-modal-target class='1'><h1>HackerRank</h1><br /></body></html>\n",
      " <html><head><title>HTML Parser - I</title></head>\n"
     ]
    },
    {
     "name": "stdout",
     "output_type": "stream",
     "text": [
      "Start : body\n",
      "-> data-modal-target > None\n",
      "-> class > 1\n",
      "Start : h1\n",
      "End   : h1\n",
      "Empty : br\n",
      "End   : body\n",
      "End   : html\n",
      "Start : html\n",
      "Start : head\n",
      "Start : title\n",
      "End   : title\n",
      "End   : head\n"
     ]
    }
   ],
   "source": [
    "# Import library\n",
    "from html.parser import HTMLParser\n",
    "\n",
    "# Define class\n",
    "class MyHTMLParser(HTMLParser):\n",
    "    # Define functions\n",
    "    def handle_starttag(self, tag, attrs):\n",
    "        print(\"Start :\", tag)\n",
    "        for attr in attrs:\n",
    "            print(\"->\", \" > \".join(map(str, attr)))\n",
    "\n",
    "    def handle_endtag(self, tag):\n",
    "        print(\"End   :\", tag)\n",
    "\n",
    "    def handle_startendtag(self, tag, attrs):\n",
    "        print(\"Empty :\", tag)\n",
    "        for attr in attrs:\n",
    "            print(\"->\", \" > \".join(map(str, attr)))\n",
    "\n",
    "\n",
    "# Define the number\n",
    "N = int(input())\n",
    "\n",
    "# Loop over number of lines\n",
    "html_code = []\n",
    "for i in range(N):\n",
    "    html_code.append(input().strip())\n",
    "html_code = \"\".join(html_code)\n",
    "\n",
    "# Call class\n",
    "parser = MyHTMLParser()\n",
    "\n",
    "# Apply functions inside class\n",
    "parser.feed(html_code)"
   ]
  },
  {
   "cell_type": "markdown",
   "metadata": {},
   "source": [
    "### 12. HTML Parser - Part 2"
   ]
  },
  {
   "cell_type": "code",
   "execution_count": 6,
   "metadata": {},
   "outputs": [
    {
     "name": "stdin",
     "output_type": "stream",
     "text": [
      " 4\n",
      " <!--[if IE 9]>IE9-specific content\n",
      " <![endif]-->\n",
      " <div> Welcome to HackerRank</div>\n",
      " <!--[if IE 9]>IE9-specific content<![endif]-->\n"
     ]
    },
    {
     "name": "stdout",
     "output_type": "stream",
     "text": [
      ">>> Multi-line Comment\n",
      "[if IE 9]>IE9-specific content\n",
      "<![endif]\n",
      ">>> Data\n",
      " Welcome to HackerRank\n",
      ">>> Single-line Comment\n",
      "[if IE 9]>IE9-specific content<![endif]\n"
     ]
    }
   ],
   "source": [
    "# Import library\n",
    "from html.parser import HTMLParser\n",
    "\n",
    "# Define class\n",
    "class MyHTMLParser(HTMLParser):\n",
    "    def handle_comment(self, data):\n",
    "        # Define functions\n",
    "        if \"\\n\" in data:\n",
    "            print(\">>> Multi-line Comment\")\n",
    "            print(data)\n",
    "        else:\n",
    "            print(\">>> Single-line Comment\")\n",
    "            print(data)\n",
    "\n",
    "    def handle_data(self, data):\n",
    "        if data != \"\\n\":\n",
    "            print(\">>> Data\")\n",
    "            print(data)\n",
    "\n",
    "\n",
    "# Loop over number of lines\n",
    "html = \"\"\n",
    "for i in range(int(input())):\n",
    "    html += input().rstrip()\n",
    "    html += \"\\n\"\n",
    "# Call class\n",
    "parser = MyHTMLParser()\n",
    "\n",
    "# Apply functions inside class\n",
    "parser.feed(html)"
   ]
  },
  {
   "cell_type": "markdown",
   "metadata": {},
   "source": [
    "### 13. Detect HTML Tags, Attributes and Attribute Values"
   ]
  },
  {
   "cell_type": "code",
   "execution_count": 17,
   "metadata": {},
   "outputs": [
    {
     "name": "stdin",
     "output_type": "stream",
     "text": [
      " 9\n",
      " <head>\n",
      " <title>HTML</title>\n",
      " </head>\n",
      " <object type=\"application/x-flash\" \n",
      "   data=\"your-file.swf\" \n",
      "   width=\"0\" height=\"0\">\n",
      "   <!-- <param name=\"movie\" value=\"your-file.swf\" /> -->\n",
      "   <param name=\"quality\" value=\"high\"/>\n",
      " </object>\n"
     ]
    },
    {
     "name": "stdout",
     "output_type": "stream",
     "text": [
      "head\n",
      "title\n",
      "object\n",
      "-> type > application/x-flash\n",
      "-> data > your-file.swf\n",
      "-> width > 0\n",
      "-> height > 0\n",
      "param\n",
      "-> name > quality\n",
      "-> value > high\n"
     ]
    }
   ],
   "source": [
    "# Import library\n",
    "from html.parser import HTMLParser\n",
    "\n",
    "# Define class\n",
    "class MyHTMLParser(HTMLParser):\n",
    "    # Define functions\n",
    "    def handle_starttag(self, tag, attrs):\n",
    "        print(tag)\n",
    "        for attr in attrs:\n",
    "            print(\"->\", \" > \".join(attr))\n",
    "\n",
    "\n",
    "# Provide the number\n",
    "N = int(input())\n",
    "\n",
    "# Loop over number of lines\n",
    "html_code = []\n",
    "for i in range(N):\n",
    "    html_code.append(input().strip())\n",
    "html_code = \"\".join(html_code)\n",
    "\n",
    "# Call class\n",
    "parser = MyHTMLParser()\n",
    "\n",
    "# Apply functions inside class\n",
    "parser.feed(html_code)"
   ]
  },
  {
   "cell_type": "markdown",
   "metadata": {},
   "source": [
    "### 14. Validating UID"
   ]
  },
  {
   "cell_type": "code",
   "execution_count": 35,
   "metadata": {},
   "outputs": [
    {
     "name": "stdin",
     "output_type": "stream",
     "text": [
      " 1\n",
      " 1234568\n"
     ]
    },
    {
     "name": "stdout",
     "output_type": "stream",
     "text": [
      "Invalid\n"
     ]
    }
   ],
   "source": [
    "# Import library\n",
    "import re\n",
    "\n",
    "# Provide the number\n",
    "T = int(input())\n",
    "\n",
    "# Loop over number\n",
    "for i in range(T):\n",
    "    s = input().strip()\n",
    "\n",
    "    # Define pattern for 2 uppercase\n",
    "    regex_pattern = r\".*([A-Z].*){2,}\"\n",
    "    upper = bool(re.match(regex_pattern, s))\n",
    "\n",
    "    # Define pattern for 3 digits\n",
    "    regex_pattern = r\".*([0-9].*){3,}\"\n",
    "    digit = bool(re.match(regex_pattern, s))\n",
    "\n",
    "    # Define pattern for alphanumeric characters\n",
    "    regex_pattern = r\"([A-Za-z0-9]){10}$\"\n",
    "    alphanum = bool(re.match(regex_pattern, s))\n",
    "\n",
    "    # Define pattern for repeating characters\n",
    "    regex_pattern = r\".*(.).*\\1\"\n",
    "    repeat = bool(re.match(regex_pattern, s))\n",
    "\n",
    "    # Print result\n",
    "    if upper and digit and alphanum and not repeat:\n",
    "        print(\"Valid\")\n",
    "    else:\n",
    "        print(\"Invalid\")"
   ]
  },
  {
   "cell_type": "markdown",
   "metadata": {},
   "source": [
    "### 15. Validating Credit Card Numbers"
   ]
  },
  {
   "cell_type": "code",
   "execution_count": 34,
   "metadata": {},
   "outputs": [
    {
     "name": "stdin",
     "output_type": "stream",
     "text": [
      " 1\n",
      " 5133-3367-8912-3456\n"
     ]
    },
    {
     "name": "stdout",
     "output_type": "stream",
     "text": [
      "Invalid\n"
     ]
    }
   ],
   "source": [
    "# Import library\n",
    "import re\n",
    "\n",
    "# Provide the number\n",
    "T = int(input())\n",
    "\n",
    "# Loop over number\n",
    "for i in range(T):\n",
    "    s = input().strip()\n",
    "\n",
    "    # Define pattern of a credit card sequence (not including the repetition of numbers)\n",
    "    regex_pattern = r\"^([456][0-9]{3})(-?)([0-9]{4})(-?)([0-9]{4})(-?)([0-9]{4})$\"\n",
    "    whole_credit_c = bool(re.match(regex_pattern, s))\n",
    "\n",
    "    # Define pattern of repeating more that 4 consecutive numbers\n",
    "    regex_pattern = r\"([0-9])\\1{3,}\"\n",
    "    repeat = bool(re.search(regex_pattern, s.replace(\"-\", \"\")))\n",
    "\n",
    "    # Print result\n",
    "    if whole_credit_c and not repeat:\n",
    "        print(\"Valid\")\n",
    "    else:\n",
    "        print(\"Invalid\")"
   ]
  },
  {
   "cell_type": "markdown",
   "metadata": {},
   "source": [
    "### 16. Validating Postal Codes"
   ]
  },
  {
   "cell_type": "code",
   "execution_count": 36,
   "metadata": {},
   "outputs": [
    {
     "name": "stdin",
     "output_type": "stream",
     "text": [
      " 110000\n"
     ]
    },
    {
     "name": "stdout",
     "output_type": "stream",
     "text": [
      "False\n"
     ]
    }
   ],
   "source": [
    "# Define pattern of number between 100000 and 999999\n",
    "regex_integer_in_range = r\"^[1-9][0-9]{5}$\"\n",
    "# Define pattern of alternate repeating number\n",
    "regex_alternating_repetitive_digit_pair = r\"([0-9])(?=[0-9]\\1)\"\n",
    "\n",
    "# Import library\n",
    "import re\n",
    "\n",
    "# Provide the number\n",
    "P = input()\n",
    "\n",
    "# Print result\n",
    "print(\n",
    "    bool(re.match(regex_integer_in_range, P))\n",
    "    and len(re.findall(regex_alternating_repetitive_digit_pair, P)) < 2\n",
    ")"
   ]
  },
  {
   "cell_type": "markdown",
   "metadata": {},
   "source": [
    "### 17. Matrix Script"
   ]
  },
  {
   "cell_type": "code",
   "execution_count": 68,
   "metadata": {},
   "outputs": [
    {
     "name": "stdin",
     "output_type": "stream",
     "text": [
      " 2 2 \n",
      " 1 2\n",
      " 3 4\n"
     ]
    },
    {
     "name": "stdout",
     "output_type": "stream",
     "text": [
      "1324\n"
     ]
    }
   ],
   "source": [
    "# Import libraries\n",
    "import math\n",
    "import os\n",
    "import random\n",
    "import re\n",
    "import sys\n",
    "\n",
    "\n",
    "# Provide the numbers\n",
    "first_multiple_input = input().rstrip().split()\n",
    "n = int(first_multiple_input[0])\n",
    "m = int(first_multiple_input[1])\n",
    "\n",
    "# Loop over rows\n",
    "matrix = []\n",
    "for _ in range(n):\n",
    "    matrix_item = list(input())\n",
    "    matrix.append(matrix_item)\n",
    "# Transpose to get values as rows where needed\n",
    "matrix = list(map(list, zip(*matrix)))\n",
    "\n",
    "# Loop over matrix rows (previously the columns)\n",
    "text = \"\"\n",
    "for i in range(m):\n",
    "    text += \"\".join(matrix[i])\n",
    "# Define pattern\n",
    "regex_pattern = r\"(?<=[A-Za-z0-9])([^A-Za-z0-9]+)(?=[A-Za-z0-9])\"\n",
    "s = re.sub(regex_pattern, \" \", text)\n",
    "\n",
    "# Print result\n",
    "print(s)"
   ]
  },
  {
   "cell_type": "markdown",
   "metadata": {},
   "source": [
    "## XML\n",
    " (all – total: 2 - max points: 40)\n",
    "https://www.hackerrank.com/domains/python/xml"
   ]
  },
  {
   "cell_type": "markdown",
   "metadata": {},
   "source": [
    "### 1. XML 1 - Find the Score"
   ]
  },
  {
   "cell_type": "code",
   "execution_count": null,
   "metadata": {},
   "outputs": [],
   "source": [
    "# Import libraries\n",
    "import sys\n",
    "import xml.etree.ElementTree as etree\n",
    "\n",
    "# Define function\n",
    "def get_attr_number(node):\n",
    "    score = sum(len(child.attrib) for child in node.iter())\n",
    "    return score\n",
    "\n",
    "\n",
    "# Provide the number\n",
    "sys.stdin.readline()\n",
    "\n",
    "# Provide the xml\n",
    "xml = sys.stdin.read()\n",
    "tree = etree.ElementTree(etree.fromstring(xml))\n",
    "root = tree.getroot()\n",
    "\n",
    "# Apply function\n",
    "print(get_attr_number(root))"
   ]
  },
  {
   "cell_type": "markdown",
   "metadata": {},
   "source": [
    "### 2. XML2 - Find the Maximum Depth\n",
    "\n",
    "I looked at the answer to this exercise because I'm NOT very related to recursion."
   ]
  },
  {
   "cell_type": "code",
   "execution_count": 7,
   "metadata": {},
   "outputs": [
    {
     "name": "stdin",
     "output_type": "stream",
     "text": [
      " 6\n",
      " <feed xml:lang='en'>\n",
      "     <title>HackerRank</title>\n",
      "     <subtitle lang='en'>Programming challenges</subtitle>\n",
      "     <link rel='alternate' type='text/html' href='http://hackerrank.com/'/>\n",
      "     <updated>2013-12-25T12:00:00</updated>\n",
      " </feed>\n"
     ]
    },
    {
     "name": "stdout",
     "output_type": "stream",
     "text": [
      "1\n"
     ]
    }
   ],
   "source": [
    "# Import library\n",
    "import xml.etree.ElementTree as etree\n",
    "\n",
    "# Define function\n",
    "maxdepth = 0\n",
    "\n",
    "\n",
    "def depth(elem, level):\n",
    "    global maxdepth\n",
    "    if level == maxdepth:\n",
    "        maxdepth += 1\n",
    "    for child in elem:\n",
    "        depth(child, level + 1)\n",
    "\n",
    "\n",
    "n = int(input())\n",
    "xml = \"\"\n",
    "for i in range(n):\n",
    "    xml = xml + input() + \"\\n\"\n",
    "tree = etree.ElementTree(etree.fromstring(xml))\n",
    "depth(tree.getroot(), -1)\n",
    "\n",
    "# Print result\n",
    "print(maxdepth)"
   ]
  },
  {
   "cell_type": "markdown",
   "metadata": {},
   "source": [
    "## Closures and Decorations \n",
    " (all – total: 2 - max points: 60)\n",
    "https://www.hackerrank.com/domains/python/closures-and-decorators"
   ]
  },
  {
   "cell_type": "markdown",
   "metadata": {},
   "source": [
    "### 1. Standardize Mobile Number Using Decorators"
   ]
  },
  {
   "cell_type": "code",
   "execution_count": 2,
   "metadata": {},
   "outputs": [
    {
     "name": "stdin",
     "output_type": "stream",
     "text": [
      " 3\n",
      " 07895462130\n",
      " 919875641230\n",
      " 9195969878\n"
     ]
    },
    {
     "name": "stdout",
     "output_type": "stream",
     "text": [
      "+91 78954 62130\n",
      "+91 91959 69878\n",
      "+91 98756 41230\n"
     ]
    }
   ],
   "source": [
    "# Define function\n",
    "def wrapper(f):\n",
    "    def fun(l):\n",
    "        # complete the function\n",
    "        f(\"+91 \" + i[-10:-5] + \" \" + i[-5:] for i in l)\n",
    "\n",
    "    return fun\n",
    "\n",
    "\n",
    "# Activate wrapper\n",
    "@wrapper\n",
    "\n",
    "# Define function\n",
    "def sort_phone(l):\n",
    "    print(*sorted(l), sep=\"\\n\")\n",
    "\n",
    "\n",
    "# Provide the numbers\n",
    "l = [input() for _ in range(int(input()))]\n",
    "\n",
    "# Apply function\n",
    "sort_phone(l)"
   ]
  },
  {
   "cell_type": "markdown",
   "metadata": {},
   "source": [
    "### 2. Decorators 2 - Name Directory"
   ]
  },
  {
   "cell_type": "code",
   "execution_count": 5,
   "metadata": {},
   "outputs": [
    {
     "name": "stdin",
     "output_type": "stream",
     "text": [
      " 3\n",
      " Mike Thomson 20 M\n",
      " Robert Bustle 32 M\n",
      " Andria Bustle 30 F\n"
     ]
    },
    {
     "name": "stdout",
     "output_type": "stream",
     "text": [
      "Mr. Mike Thomson\n",
      "Ms. Andria Bustle\n",
      "Mr. Robert Bustle\n"
     ]
    }
   ],
   "source": [
    "# Import library\n",
    "import operator\n",
    "\n",
    "# Define function\n",
    "def person_lister(f):\n",
    "    def inner(people):\n",
    "        # complete the function\n",
    "        return map(f, sorted(people, key=lambda x: float(x[2])))\n",
    "\n",
    "    return inner\n",
    "\n",
    "\n",
    "# Activate person_lister\n",
    "@person_lister\n",
    "def name_format(person):\n",
    "    return (\"Mr. \" if (person[3] == \"M\") else \"Ms. \") + person[0] + \" \" + person[1]\n",
    "\n",
    "\n",
    "# Provide the people\n",
    "people = [input().split() for i in range(int(input()))]\n",
    "\n",
    "# Print result\n",
    "print(*name_format(people), sep=\"\\n\")"
   ]
  },
  {
   "cell_type": "markdown",
   "metadata": {},
   "source": [
    "## Numpy\n",
    " (all – total: 15 - max points: 300)\n",
    "https://www.hackerrank.com/domains/python/numpy ----\n",
    "https://www.hackerrank.com/domains/python/numpy/2"
   ]
  },
  {
   "cell_type": "markdown",
   "metadata": {},
   "source": [
    "### 1. Arrays"
   ]
  },
  {
   "cell_type": "code",
   "execution_count": 9,
   "metadata": {},
   "outputs": [
    {
     "name": "stdin",
     "output_type": "stream",
     "text": [
      " 1 2 3 4 -8 -10\n"
     ]
    },
    {
     "name": "stdout",
     "output_type": "stream",
     "text": [
      "[-10.  -8.   4.   3.   2.   1.]\n"
     ]
    }
   ],
   "source": [
    "# Import library\n",
    "import numpy as np\n",
    "\n",
    "# Define function\n",
    "def arrays(arr):\n",
    "    arr = np.array(arr[::-1]).astype(float)\n",
    "    return arr\n",
    "\n",
    "\n",
    "# Provide the number\n",
    "arr = input().strip().split(\" \")\n",
    "\n",
    "# Print result\n",
    "result = arrays(arr)\n",
    "print(result)"
   ]
  },
  {
   "cell_type": "markdown",
   "metadata": {},
   "source": [
    "### 2. Shape and Reshape"
   ]
  },
  {
   "cell_type": "code",
   "execution_count": 11,
   "metadata": {},
   "outputs": [
    {
     "name": "stdin",
     "output_type": "stream",
     "text": [
      " 1 2 3 4 5 6 7 8 9\n"
     ]
    },
    {
     "name": "stdout",
     "output_type": "stream",
     "text": [
      "[[1 2 3]\n",
      " [4 5 6]\n",
      " [7 8 9]]\n"
     ]
    }
   ],
   "source": [
    "# Import library\n",
    "import numpy as np\n",
    "\n",
    "# Provide the numbers\n",
    "integers = np.array(input().split()).astype(int)\n",
    "\n",
    "# Change shape\n",
    "integers.shape = (3, 3)\n",
    "\n",
    "# Print result\n",
    "print(integers)"
   ]
  },
  {
   "cell_type": "markdown",
   "metadata": {},
   "source": [
    "### 3. Transpose and Flatten"
   ]
  },
  {
   "cell_type": "code",
   "execution_count": 12,
   "metadata": {},
   "outputs": [
    {
     "name": "stdin",
     "output_type": "stream",
     "text": [
      " 2 2\n",
      " 1 2\n",
      " 3 4\n"
     ]
    },
    {
     "name": "stdout",
     "output_type": "stream",
     "text": [
      "[[1 3]\n",
      " [2 4]]\n",
      "[1 2 3 4]\n"
     ]
    }
   ],
   "source": [
    "# Import library\n",
    "import numpy as np\n",
    "\n",
    "# Provide the numbers\n",
    "N, M = map(int, input().split())\n",
    "\n",
    "# Loop over numbers\n",
    "matrix = []\n",
    "for i in range(N):\n",
    "    values = input().split()\n",
    "    matrix.append(values)\n",
    "# Convert to matrix\n",
    "matrix = np.array(matrix).astype(int)\n",
    "\n",
    "# Print results\n",
    "print(matrix.transpose())\n",
    "print(matrix.flatten())"
   ]
  },
  {
   "cell_type": "markdown",
   "metadata": {},
   "source": [
    "### 4. Concatenate"
   ]
  },
  {
   "cell_type": "code",
   "execution_count": 26,
   "metadata": {},
   "outputs": [
    {
     "name": "stdin",
     "output_type": "stream",
     "text": [
      " 4 3 2\n",
      " 1 2\n",
      " 1 2 \n",
      " 1 2\n",
      " 1 2\n",
      " 3 4\n",
      " 3 4\n",
      " 3 4\n"
     ]
    },
    {
     "name": "stdout",
     "output_type": "stream",
     "text": [
      "[[1. 2.]\n",
      " [1. 2.]\n",
      " [1. 2.]\n",
      " [1. 2.]\n",
      " [3. 4.]\n",
      " [3. 4.]\n",
      " [3. 4.]]\n"
     ]
    }
   ],
   "source": [
    "# Import library\n",
    "import numpy as np\n",
    "\n",
    "# Provide the numbers\n",
    "N, M, P = map(int, input().split())\n",
    "\n",
    "# Loop over number N\n",
    "arr1 = np.array([])\n",
    "for i in range(N):\n",
    "    # Provide the numbers\n",
    "    aux = np.array(input().split()).astype(int)\n",
    "    arr1 = np.append(arr1, aux, axis=0).astype(int)\n",
    "# Loop over number M\n",
    "arr2 = np.array([])\n",
    "for i in range(M):\n",
    "    # Provide the numbers\n",
    "    aux = np.array(input().split()).astype(int)\n",
    "    arr2 = np.append(arr2, aux, axis=0).astype(int)\n",
    "# Reshape to desired size\n",
    "arr1.shape = (N, P)\n",
    "arr2.shape = (M, P)\n",
    "\n",
    "# Print result\n",
    "print(np.concatenate((arr1, arr2), axis=0))"
   ]
  },
  {
   "cell_type": "markdown",
   "metadata": {},
   "source": [
    "### 5. Zeros and Ones"
   ]
  },
  {
   "cell_type": "code",
   "execution_count": 42,
   "metadata": {},
   "outputs": [
    {
     "name": "stdin",
     "output_type": "stream",
     "text": [
      " 3 3 3\n"
     ]
    },
    {
     "name": "stdout",
     "output_type": "stream",
     "text": [
      "[[[0 0 0]\n",
      "  [0 0 0]\n",
      "  [0 0 0]]\n",
      "\n",
      " [[0 0 0]\n",
      "  [0 0 0]\n",
      "  [0 0 0]]\n",
      "\n",
      " [[0 0 0]\n",
      "  [0 0 0]\n",
      "  [0 0 0]]]\n",
      "[[[1 1 1]\n",
      "  [1 1 1]\n",
      "  [1 1 1]]\n",
      "\n",
      " [[1 1 1]\n",
      "  [1 1 1]\n",
      "  [1 1 1]]\n",
      "\n",
      " [[1 1 1]\n",
      "  [1 1 1]\n",
      "  [1 1 1]]]\n"
     ]
    }
   ],
   "source": [
    "# Import library\n",
    "import numpy as np\n",
    "\n",
    "# Provide the shape\n",
    "arr = list(map(int, input().split()))\n",
    "\n",
    "# Print result\n",
    "print(np.zeros(arr, dtype=np.int))\n",
    "print(np.ones(arr, dtype=np.int))"
   ]
  },
  {
   "cell_type": "markdown",
   "metadata": {},
   "source": [
    "### 6.  Eye and Identity\n",
    "\n",
    "I look at the answer of this exercise to figure out how to modify the print options"
   ]
  },
  {
   "cell_type": "code",
   "execution_count": 43,
   "metadata": {},
   "outputs": [
    {
     "name": "stdin",
     "output_type": "stream",
     "text": [
      " 3 3\n"
     ]
    },
    {
     "name": "stdout",
     "output_type": "stream",
     "text": [
      "[[1. 0. 0.]\n",
      " [0. 1. 0.]\n",
      " [0. 0. 1.]]\n"
     ]
    }
   ],
   "source": [
    "# Import library\n",
    "import numpy as np\n",
    "\n",
    "# Set printing options\n",
    "np.set_printoptions(sign=\" \")\n",
    "\n",
    "# Provide the numbers\n",
    "N, M = list(map(int, input().split()))\n",
    "print(np.eye(N, M, k=0))"
   ]
  },
  {
   "cell_type": "markdown",
   "metadata": {},
   "source": [
    "### 7. Array Mathematics"
   ]
  },
  {
   "cell_type": "code",
   "execution_count": 57,
   "metadata": {},
   "outputs": [
    {
     "name": "stdin",
     "output_type": "stream",
     "text": [
      " 2 4\n",
      " 1 2 3 4\n",
      " 1 2 3 4\n",
      " 5 6 7 7\n",
      " 5 6 7 7\n"
     ]
    },
    {
     "name": "stdout",
     "output_type": "stream",
     "text": [
      "[[ 2  4  6  8]\n",
      " [10 12 14 14]]\n",
      "[[0 0 0 0]\n",
      " [0 0 0 0]]\n",
      "[[ 1  4  9 16]\n",
      " [25 36 49 49]]\n",
      "[[1 1 1 1]\n",
      " [1 1 1 1]]\n",
      "[[0 0 0 0]\n",
      " [0 0 0 0]]\n",
      "[[     1      4     27    256]\n",
      " [  3125  46656 823543 823543]]\n"
     ]
    }
   ],
   "source": [
    "# Import library\n",
    "import numpy as np\n",
    "\n",
    "np.set_printoptions(sign=\" \")\n",
    "\n",
    "# Provide the numbers\n",
    "N, M = map(int, input().split())\n",
    "\n",
    "# Loop over numbers\n",
    "n1 = []\n",
    "n2 = []\n",
    "for i in range(N):\n",
    "    n1.append(input().split())\n",
    "for i in range(N):\n",
    "    n2.append(input().split())\n",
    "# Transform list to numpy array\n",
    "n1 = np.array(n1, int)\n",
    "n2 = np.array(n2, int)\n",
    "\n",
    "# Print result\n",
    "print(n1 + n2)\n",
    "print(n1 - n2)\n",
    "print(n1 * n2)\n",
    "print(n1 // n2)\n",
    "print(n1 % n2)\n",
    "print(n1 ** n2)"
   ]
  },
  {
   "cell_type": "markdown",
   "metadata": {},
   "source": [
    "### 8. Floor, Ceil and Rint"
   ]
  },
  {
   "cell_type": "code",
   "execution_count": 61,
   "metadata": {},
   "outputs": [
    {
     "name": "stdin",
     "output_type": "stream",
     "text": [
      " 1.1 2.2 3.3 4.4 5.5 6.6 7.7 8.8 9.9\n"
     ]
    },
    {
     "name": "stdout",
     "output_type": "stream",
     "text": [
      "[ 1.  2.  3.  4.  5.  6.  7.  8.  9.]\n",
      "[  2.   3.   4.   5.   6.   7.   8.   9.  10.]\n",
      "[  1.   2.   3.   4.   6.   7.   8.   9.  10.]\n"
     ]
    }
   ],
   "source": [
    "# Import library\n",
    "import numpy as np\n",
    "\n",
    "np.set_printoptions(sign=\" \")\n",
    "\n",
    "# Provide the numbers\n",
    "N = np.array(input().split(), float)\n",
    "\n",
    "# Print result\n",
    "print(np.floor(N))\n",
    "print(np.ceil(N))\n",
    "print(np.rint(N))"
   ]
  },
  {
   "cell_type": "markdown",
   "metadata": {},
   "source": [
    "### 9. Sum and Prod"
   ]
  },
  {
   "cell_type": "code",
   "execution_count": 63,
   "metadata": {},
   "outputs": [
    {
     "name": "stdin",
     "output_type": "stream",
     "text": [
      " 2 2\n",
      " 1 2\n",
      " 3 4\n"
     ]
    },
    {
     "name": "stdout",
     "output_type": "stream",
     "text": [
      "24\n"
     ]
    }
   ],
   "source": [
    "# Import library\n",
    "import numpy as np\n",
    "\n",
    "np.set_printoptions(sign=\" \")\n",
    "\n",
    "# Provide the numbers\n",
    "N, M = map(int, input().split())\n",
    "\n",
    "# Loop over numbers\n",
    "n1 = []\n",
    "for i in range(N):\n",
    "    n1.append(input().split())\n",
    "# Transform list to numpy array\n",
    "n1 = np.array(n1, int)\n",
    "\n",
    "# Sum over axis 0\n",
    "sum_n1 = np.sum(n1, axis=0)\n",
    "\n",
    "# Print result\n",
    "print(np.prod(sum_n1))"
   ]
  },
  {
   "cell_type": "markdown",
   "metadata": {},
   "source": [
    "### 10. Min and Max"
   ]
  },
  {
   "cell_type": "code",
   "execution_count": 64,
   "metadata": {},
   "outputs": [
    {
     "name": "stdin",
     "output_type": "stream",
     "text": [
      " 4 2\n",
      " 2 5\n",
      " 3 7\n",
      " 1 3\n",
      " 4 0\n"
     ]
    },
    {
     "name": "stdout",
     "output_type": "stream",
     "text": [
      "3\n"
     ]
    }
   ],
   "source": [
    "# Import library\n",
    "import numpy as np\n",
    "\n",
    "np.set_printoptions(sign=\" \")\n",
    "\n",
    "# Provide the numbers\n",
    "N, M = map(int, input().split())\n",
    "\n",
    "# Loop over numbers\n",
    "n1 = []\n",
    "for i in range(N):\n",
    "    n1.append(input().split())\n",
    "# Transform list to numpy array\n",
    "n1 = np.array(n1, int)\n",
    "\n",
    "# Minimum over axis 0\n",
    "min_n1 = np.min(n1, axis=1)\n",
    "\n",
    "# Print result\n",
    "print(np.max(min_n1))"
   ]
  },
  {
   "cell_type": "markdown",
   "metadata": {},
   "source": [
    "### 11. Mean, Var, and Std\n",
    "\n"
   ]
  },
  {
   "cell_type": "code",
   "execution_count": 69,
   "metadata": {},
   "outputs": [
    {
     "name": "stdin",
     "output_type": "stream",
     "text": [
      " 2 2\n",
      " 1 2\n",
      " 3 4\n"
     ]
    },
    {
     "name": "stdout",
     "output_type": "stream",
     "text": [
      "[ 1.5  3.5]\n",
      "[ 1.  1.]\n",
      "1.118033988749894903\n"
     ]
    }
   ],
   "source": [
    "# Import library\n",
    "import numpy as np\n",
    "\n",
    "np.set_printoptions(sign=\" \")\n",
    "\n",
    "# Provide the numbers\n",
    "N, M = map(int, input().split())\n",
    "\n",
    "# Loop over numbers\n",
    "n1 = []\n",
    "for i in range(N):\n",
    "    n1.append(input().split())\n",
    "# Transform list to numpy array\n",
    "n1 = np.array(n1, int)\n",
    "\n",
    "# Print result\n",
    "print(np.mean(n1, axis=1))\n",
    "print(np.var(n1, axis=0))\n",
    "print(\"{0:.18f}\".format(np.std(n1)))"
   ]
  },
  {
   "cell_type": "markdown",
   "metadata": {},
   "source": [
    "### 12. Dot and Cross"
   ]
  },
  {
   "cell_type": "code",
   "execution_count": 76,
   "metadata": {},
   "outputs": [
    {
     "name": "stdin",
     "output_type": "stream",
     "text": [
      " 2\n",
      " 1 2\n",
      " 3 4\n",
      " 1 2\n",
      " 3 4\n"
     ]
    },
    {
     "name": "stdout",
     "output_type": "stream",
     "text": [
      "[[ 7 10]\n",
      " [15 22]]\n"
     ]
    }
   ],
   "source": [
    "# Import library\n",
    "import numpy as np\n",
    "\n",
    "np.set_printoptions(sign=\" \")\n",
    "\n",
    "# Provide the numbers\n",
    "N = int(input())\n",
    "\n",
    "# Loop over numbers\n",
    "A = []\n",
    "for i in range(N):\n",
    "    A.append(input().split())\n",
    "B = []\n",
    "for i in range(N):\n",
    "    B.append(input().split())\n",
    "# Transform list to numpy array\n",
    "A = np.array(A, int)\n",
    "B = np.array(B, int)\n",
    "\n",
    "# Print result\n",
    "print(np.dot(A, B))"
   ]
  },
  {
   "cell_type": "markdown",
   "metadata": {},
   "source": [
    "### 13. Inner and Outer"
   ]
  },
  {
   "cell_type": "code",
   "execution_count": 81,
   "metadata": {},
   "outputs": [
    {
     "name": "stdin",
     "output_type": "stream",
     "text": [
      " 0 1\n",
      " 2 3\n"
     ]
    },
    {
     "name": "stdout",
     "output_type": "stream",
     "text": [
      "3\n",
      "[[0 0]\n",
      " [2 3]]\n"
     ]
    }
   ],
   "source": [
    "# Import library\n",
    "import numpy as np\n",
    "\n",
    "np.set_printoptions(sign=\" \")\n",
    "\n",
    "# Provide the numbers\n",
    "A = np.array(input().split(), int)\n",
    "B = np.array(input().split(), int)\n",
    "\n",
    "# Print result\n",
    "print(np.inner(A, B))\n",
    "print(np.outer(A, B))"
   ]
  },
  {
   "cell_type": "markdown",
   "metadata": {},
   "source": [
    "### 14. Polynomials"
   ]
  },
  {
   "cell_type": "code",
   "execution_count": 83,
   "metadata": {},
   "outputs": [
    {
     "name": "stdin",
     "output_type": "stream",
     "text": [
      " 1.1 2 3\n",
      " 0\n"
     ]
    },
    {
     "name": "stdout",
     "output_type": "stream",
     "text": [
      "3.0\n"
     ]
    }
   ],
   "source": [
    "# Import library\n",
    "import numpy as np\n",
    "\n",
    "np.set_printoptions(sign=\" \")\n",
    "\n",
    "# Provide the numbers\n",
    "P = np.array(input().split(), float)\n",
    "x = np.array(input(), int)\n",
    "\n",
    "# Print result\n",
    "print(np.polyval(P, x))"
   ]
  },
  {
   "cell_type": "markdown",
   "metadata": {},
   "source": [
    "### 15. Linear Algebra"
   ]
  },
  {
   "cell_type": "code",
   "execution_count": 86,
   "metadata": {},
   "outputs": [
    {
     "name": "stdin",
     "output_type": "stream",
     "text": [
      " 2\n",
      " 1.1 1.1\n",
      " 1.1 1.2\n"
     ]
    },
    {
     "name": "stdout",
     "output_type": "stream",
     "text": [
      "0.11\n"
     ]
    }
   ],
   "source": [
    "# Import library\n",
    "import numpy as np\n",
    "\n",
    "np.set_printoptions(sign=\" \")\n",
    "\n",
    "# Provide the numbers\n",
    "N = int(input())\n",
    "\n",
    "# Loop over numbers\n",
    "A = []\n",
    "for i in range(N):\n",
    "    A.append(input().split())\n",
    "# Transform list to numpy array\n",
    "A = np.array(A, float)\n",
    "\n",
    "# Print result\n",
    "print(np.linalg.det(A).round(2))"
   ]
  },
  {
   "cell_type": "markdown",
   "metadata": {},
   "source": [
    "# Problem 2\n",
    "In the following cells, you can find the solution to each one of the challenges proposed in the second problem."
   ]
  },
  {
   "cell_type": "markdown",
   "metadata": {},
   "source": [
    "## Birthday Cake Candles\n",
    "https://www.hackerrank.com/challenges/birthday-cake-candles"
   ]
  },
  {
   "cell_type": "code",
   "execution_count": null,
   "metadata": {},
   "outputs": [],
   "source": [
    "# Import libraries\n",
    "import math\n",
    "import os\n",
    "import random\n",
    "import re\n",
    "import sys\n",
    "\n",
    "# Define function\n",
    "def birthdayCakeCandles(candles):\n",
    "    # Calculate maximum height\n",
    "    max_h = max(candles)\n",
    "\n",
    "    # Loop over numbers\n",
    "    count = 0\n",
    "    for i in candles:\n",
    "        if i == max_h:\n",
    "            count += 1\n",
    "    # Return the value\n",
    "    return count\n",
    "\n",
    "\n",
    "if __name__ == \"__main__\":\n",
    "    fptr = open(os.environ[\"OUTPUT_PATH\"], \"w\")\n",
    "\n",
    "    candles_count = int(input().strip())\n",
    "\n",
    "    candles = list(map(int, input().rstrip().split()))\n",
    "\n",
    "    result = birthdayCakeCandles(candles)\n",
    "\n",
    "    fptr.write(str(result) + \"\\n\")\n",
    "\n",
    "    fptr.close()"
   ]
  },
  {
   "cell_type": "markdown",
   "metadata": {},
   "source": [
    "## Number Line Jumps\n",
    "https://www.hackerrank.com/challenges/kangaroo"
   ]
  },
  {
   "cell_type": "code",
   "execution_count": 104,
   "metadata": {},
   "outputs": [
    {
     "name": "stdin",
     "output_type": "stream",
     "text": [
      " 0 2 5 3\n"
     ]
    },
    {
     "name": "stdout",
     "output_type": "stream",
     "text": [
      "YES\n",
      "\n"
     ]
    }
   ],
   "source": [
    "# Import libraries\n",
    "import math\n",
    "import os\n",
    "import random\n",
    "import re\n",
    "import sys\n",
    "\n",
    "# Define functoin\n",
    "def kangaroo(x1, v1, x2, v2):\n",
    "    # Solving equation to find point of convergence (point = (pos_k2-pos_k1)/(vel_k1-vel_k2))\n",
    "    point = (x2 - x1) / (v1 - v2)\n",
    "\n",
    "    # When going at the same speed and starting from the same point\n",
    "    if v1 == v2 and x1 == x2:\n",
    "        return \"YES\"\n",
    "    # When going at the same speed but starting from different points\n",
    "    elif v1 == v2:\n",
    "        return \"NO\"\n",
    "    # Check if position is integer to know if they converge\n",
    "    if point == int(point) and point > 0:\n",
    "        return \"YES\"\n",
    "    else:\n",
    "        return \"NO\"\n",
    "\n",
    "\n",
    "if __name__ == \"__main__\":\n",
    "    fptr = open(os.environ[\"OUTPUT_PATH\"], \"w\")\n",
    "\n",
    "    x1V1X2V2 = input().split()\n",
    "\n",
    "    x1 = int(x1V1X2V2[0])\n",
    "\n",
    "    v1 = int(x1V1X2V2[1])\n",
    "\n",
    "    x2 = int(x1V1X2V2[2])\n",
    "\n",
    "    v2 = int(x1V1X2V2[3])\n",
    "\n",
    "    result = kangaroo(x1, v1, x2, v2)\n",
    "\n",
    "    fptr.write(result + \"\"\\n\")\n",
    "\n",
    "    fptr.close()"
   ]
  },
  {
   "cell_type": "markdown",
   "metadata": {},
   "source": [
    "## Viral Advertising\n",
    "https://www.hackerrank.com/challenges/strange-advertising"
   ]
  },
  {
   "cell_type": "code",
   "execution_count": 120,
   "metadata": {},
   "outputs": [
    {
     "name": "stdin",
     "output_type": "stream",
     "text": [
      " 5\n"
     ]
    },
    {
     "name": "stdout",
     "output_type": "stream",
     "text": [
      "24\n",
      "\n"
     ]
    }
   ],
   "source": [
    "# Import libraries\n",
    "import math\n",
    "import os\n",
    "import random\n",
    "import re\n",
    "import sys\n",
    "\n",
    "# Define funciton\n",
    "def viralAdvertising(n):\n",
    "    # Set initial values\n",
    "    shared = 5\n",
    "    liked = math.floor(shared / 2)\n",
    "    cum = liked\n",
    "    \n",
    "    # Loop over days starting form second one\n",
    "    for i in range(2,n+1):\n",
    "        # Calculate shared people\n",
    "        shared = math.floor(shared / 2) * 3\n",
    "        \n",
    "        # Calculate liked people\n",
    "        liked = math.floor(shared / 2)\n",
    "        \n",
    "        # Calculate cumulative sum of liked people\n",
    "        cum += liked\n",
    "    \n",
    "    return(int(cum))\n",
    "\n",
    "if __name__ == \"__main__\":\n",
    "    fptr = open(os.environ[\"OUTPUT_PATH\"], \"w\")\n",
    "\n",
    "    n = int(input())\n",
    "\n",
    "    result = viralAdvertising(n)\n",
    "\n",
    "    fptr.write(str(result) + \"\\n\")\n",
    "\n",
    "    fptr.close()"
   ]
  },
  {
   "cell_type": "markdown",
   "metadata": {},
   "source": [
    "## Recursive Digit Sum\n",
    "https://www.hackerrank.com/challenges/recursive-digit-sum"
   ]
  },
  {
   "cell_type": "code",
   "execution_count": 179,
   "metadata": {},
   "outputs": [
    {
     "name": "stdin",
     "output_type": "stream",
     "text": [
      " 12 1\n"
     ]
    },
    {
     "name": "stdout",
     "output_type": "stream",
     "text": [
      "3\n",
      "\n"
     ]
    }
   ],
   "source": [
    "# Import libraries\n",
    "import math\n",
    "import os\n",
    "import random\n",
    "import re\n",
    "import sys\n",
    "import itertools\n",
    "\n",
    "# Define function for applying super digit\n",
    "def apply_super_digit(P):\n",
    "    # Check if P is digit\n",
    "    if P <= 9 and P >= 1:\n",
    "        return P\n",
    "    else:\n",
    "        # Calculate sum of digits\n",
    "        P = sum(map(int, list(str(P))))\n",
    "        # Execute the recursive function\n",
    "        return apply_super_digit(P)\n",
    "\n",
    "\n",
    "# Define function to call super digit\n",
    "def superDigit(n, k):\n",
    "    # Calculate sum of digits\n",
    "    P = sum(map(int, list(str(n))))\n",
    "    result = apply_super_digit(P * k)\n",
    "    return result\n",
    "\n",
    "\n",
    "if __name__ == \"__main__\":\n",
    "    fptr = open(os.environ[\"OUTPUT_PATH\"], \"w\")\n",
    "\n",
    "    nk = input().split()\n",
    "\n",
    "    n = nk[0]\n",
    "\n",
    "    k = int(nk[1])\n",
    "\n",
    "    result = superDigit(n, k)\n",
    "\n",
    "    fptr.write(str(result) + \"\\n\")\n",
    "\n",
    "    fptr.close()"
   ]
  },
  {
   "cell_type": "markdown",
   "metadata": {},
   "source": [
    "## Insertion Sort - Part 1\n",
    "https://www.hackerrank.com/challenges/insertionsort1"
   ]
  },
  {
   "cell_type": "code",
   "execution_count": 272,
   "metadata": {},
   "outputs": [
    {
     "name": "stdin",
     "output_type": "stream",
     "text": [
      " 5\n",
      " 2 4 6 8 3\n"
     ]
    },
    {
     "name": "stdout",
     "output_type": "stream",
     "text": [
      "2 4 6 8 8\n",
      "2 4 6 6 8\n",
      "2 4 4 6 8\n",
      "2 3 4 6 8\n"
     ]
    }
   ],
   "source": [
    "# Import libraries\n",
    "import random\n",
    "import re\n",
    "import sys\n",
    "\n",
    "# Define function\n",
    "def insertionSort1(n, arr):\n",
    "    # Store last position\n",
    "    stored = arr[-1]\n",
    "\n",
    "    # loop over array and check if last number is lower than each value\n",
    "    i = n - 2\n",
    "    while stored < arr[i] and i >= 0:\n",
    "        arr[i + 1] = arr[i]\n",
    "        print(\" \".join(map(str, arr)))\n",
    "        i -= 1\n",
    "    # Change number in correct position\n",
    "    arr[i + 1] = stored\n",
    "    print(\" \".join(map(str, arr)))\n",
    "\n",
    "\n",
    "if __name__ == \"__main__\":\n",
    "    n = int(input())\n",
    "\n",
    "    arr = list(map(int, input().rstrip().split()))\n",
    "\n",
    "    insertionSort1(n, arr)"
   ]
  },
  {
   "cell_type": "markdown",
   "metadata": {},
   "source": [
    "## Insertion Sort - Part 2\n",
    "https://www.hackerrank.com/challenges/insertionsort2"
   ]
  },
  {
   "cell_type": "code",
   "execution_count": 276,
   "metadata": {},
   "outputs": [
    {
     "name": "stdin",
     "output_type": "stream",
     "text": [
      " 6\n",
      " 1 4 3 5 6 2\n"
     ]
    },
    {
     "name": "stdout",
     "output_type": "stream",
     "text": [
      "1 4 3 5 6 2\n",
      "1 3 4 5 6 2\n",
      "1 3 4 5 6 2\n",
      "1 3 4 5 6 2\n",
      "1 2 3 4 5 6\n"
     ]
    }
   ],
   "source": [
    "# Import libraries\n",
    "import math\n",
    "import os\n",
    "import random\n",
    "import re\n",
    "import sys\n",
    "\n",
    "# Complete the insertionSort2 function below.\n",
    "def insertionSort2(n, arr):\n",
    "    # Loop over all the elements of the array\n",
    "    for j in range(1, n):\n",
    "        # Store each position\n",
    "        stored = arr[j]\n",
    "        i = j - 1\n",
    "\n",
    "        # loop over array and check if last number is lower than each value\n",
    "        while stored < arr[i] and i >= 0:\n",
    "            arr[i + 1] = arr[i]\n",
    "            i -= 1\n",
    "        # Change number in correct position\n",
    "        arr[i + 1] = stored\n",
    "        print(\" \".join(map(str, arr)))\n",
    "\n",
    "\n",
    "if __name__ == \"__main__\":\n",
    "    n = int(input())\n",
    "\n",
    "    arr = list(map(int, input().rstrip().split()))\n",
    "\n",
    "    insertionSort2(n, arr)"
   ]
  },
  {
   "cell_type": "markdown",
   "metadata": {},
   "source": []
  }
 ],
 "metadata": {
  "kernelspec": {
   "display_name": "Python 3",
   "language": "python",
   "name": "python3"
  },
  "language_info": {
   "codemirror_mode": {
    "name": "ipython",
    "version": 3
   },
   "file_extension": ".py",
   "mimetype": "text/x-python",
   "name": "python",
   "nbconvert_exporter": "python",
   "pygments_lexer": "ipython3",
   "version": "3.7.9"
  }
 },
 "nbformat": 4,
 "nbformat_minor": 4
}
